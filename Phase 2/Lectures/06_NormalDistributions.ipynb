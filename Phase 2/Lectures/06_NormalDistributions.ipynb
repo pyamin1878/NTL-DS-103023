{
 "cells": [
  {
   "cell_type": "markdown",
   "metadata": {
    "heading_collapsed": true
   },
   "source": [
    "# Objectives"
   ]
  },
  {
   "cell_type": "markdown",
   "metadata": {
    "hidden": true
   },
   "source": [
    "* Describe the normal distribution's Empirical Rule\n",
    "* Calculate $z$-scores from a normal distribution through standardization\n",
    "* Define the Central Limit Theorem\n"
   ]
  },
  {
   "cell_type": "code",
   "execution_count": 1,
   "metadata": {
    "hidden": true
   },
   "outputs": [],
   "source": [
    "# Imports!\n",
    "from scipy import stats\n",
    "\n",
    "import matplotlib.pyplot as plt\n",
    "%matplotlib inline\n",
    "import seaborn as sns\n",
    "\n",
    "import pandas as pd\n",
    "import numpy as np"
   ]
  },
  {
   "cell_type": "markdown",
   "metadata": {
    "heading_collapsed": true
   },
   "source": [
    "# Normal Distribution"
   ]
  },
  {
   "cell_type": "markdown",
   "metadata": {
    "hidden": true
   },
   "source": [
    "We'll find that the **normal distribution** or **normal curve** or **bell curve** (it has many names) is a very common distribution and it's very useful to us in statistics."
   ]
  },
  {
   "cell_type": "markdown",
   "metadata": {
    "hidden": true
   },
   "source": [
    "![](images/normal_curve_animation.gif)"
   ]
  },
  {
   "cell_type": "markdown",
   "metadata": {
    "heading_collapsed": true,
    "hidden": true
   },
   "source": [
    "## Why a Normal Distribution?"
   ]
  },
  {
   "cell_type": "markdown",
   "metadata": {
    "hidden": true
   },
   "source": [
    "Turns out the normal distribution describes many phenomena. Think of anything that has a typical range:\n",
    "\n",
    "- human body temperatures\n",
    "- sizes of elephants\n",
    "- sizes of stars\n",
    "- populations of cities\n",
    "- IQ\n",
    "- heart rate"
   ]
  },
  {
   "cell_type": "markdown",
   "metadata": {
    "hidden": true
   },
   "source": [
    "Among human beings, 98.6 degrees Fahrenheit is an _average_ body temperature. Many folks' temperatures won't measure _exactly_ 98.6 degrees, but most measurements will be _close_. It is much more common to have a body temperature close to 98.6 (whether slightly more or slightly less) than it is to have a body temperature far from 98.6 (whether significantly more or significantly less). This is a hallmark of a normally distributed variable."
   ]
  },
  {
   "cell_type": "code",
   "execution_count": 2,
   "metadata": {
    "hidden": true
   },
   "outputs": [
    {
     "data": {
      "image/png": "[encoded data removed]",
      "text/plain": [
       "<Figure size 432x288 with 1 Axes>"
      ]
     },
     "metadata": {
      "needs_background": "light"
     },
     "output_type": "display_data"
    }
   ],
   "source": [
    "# Visualize it\n",
    "fig, ax = plt.subplots()\n",
    "\n",
    "mu = 0\n",
    "sigma = 1\n",
    "# This defines the points along the x-axis\n",
    "x = np.linspace(\n",
    "        stats.norm(mu,sigma).ppf(0.01), # Start plotting here\n",
    "        stats.norm(mu,sigma).ppf(0.99), # End plotting here\n",
    "        100                             # Number of points\n",
    ")\n",
    "# The values as at x given by the normal curve (with mu & sigma)\n",
    "y = stats.norm(mu,sigma).pdf(x)\n",
    "ax.plot(x, y,'r-');"
   ]
  },
  {
   "cell_type": "markdown",
   "metadata": {},
   "source": [
    "The Standard Normal Distribution, also known as a Gaussian distribution, is special not only because it shows up EVERYWHERE but also because it's symmetric (mean == median == mode)"
   ]
  },
  {
   "cell_type": "markdown",
   "metadata": {
    "hidden": true
   },
   "source": [
    "### Normal Curve\n",
    "\n",
    "If you're curious about how we can mathematically define a normal curve, we give this below. (Don't worry, you don't need to recall the mathematical definition).\n",
    "\n",
    "<details>\n",
    "\n",
    "$\\Large f(x) = \\frac{1}{\\sqrt{2\\pi\\sigma^2}}e^{\\frac{-(x - \\mu)^2}{2\\sigma^2}}$\n",
    "    \n",
    "This might look complicated at first, but it means that the we describe a normal curve with just **two parameters**: $\\sigma^2$ (the variance) & $\\mu$ (the mean). You may see the notation $N(\\mu, \\sigma^2)$ which emphasizes there are only two parameters to describe the distribution.\n",
    "</details>"
   ]
  },
  {
   "cell_type": "markdown",
   "metadata": {
    "hidden": true
   },
   "source": [
    "\n"
   ]
  },
  {
   "cell_type": "markdown",
   "metadata": {
    "heading_collapsed": true,
    "hidden": true
   },
   "source": [
    "## *Standard* Normal Distribution"
   ]
  },
  {
   "cell_type": "markdown",
   "metadata": {
    "hidden": true
   },
   "source": [
    "A special normal distribution called the **standard normal distribution** has a mean of 0 and variance of 1. This is also known as a **z distribution**."
   ]
  },
  {
   "cell_type": "markdown",
   "metadata": {
    "hidden": true
   },
   "source": [
    "Since we know that the shape of a normal distribution changes based on its mean and variance, we'll typically convert or **standardize** our normal distribution to the standard normal distribution."
   ]
  },
  {
   "cell_type": "markdown",
   "metadata": {
    "hidden": true
   },
   "source": [
    "We simply subtract the mean $\\mu$ from each value and then divide by the standard deviation $\\sigma$:\n",
    "\n",
    "$$\\frac{x - \\mu}{\\sigma}$$\n",
    "\n",
    "We call this process **standardization**."
   ]
  },
  {
   "cell_type": "markdown",
   "metadata": {
    "hidden": true
   },
   "source": [
    "![norm_to_z](images/norm_to_z.png)"
   ]
  },
  {
   "cell_type": "code",
   "execution_count": 3,
   "metadata": {
    "hidden": true,
    "scrolled": false
   },
   "outputs": [
    {
     "data": {
      "text/plain": [
       "5.018605645162733"
      ]
     },
     "execution_count": 3,
     "metadata": {},
     "output_type": "execute_result"
    }
   ],
   "source": [
    "# Let's transform the normal distribution centered on 5\n",
    "# with a standard deviation of 2 into a standard normal\n",
    "\n",
    "# Generating our data\n",
    "# stats.norm.rvs()\n",
    "normal_dist = np.random.normal(loc=5, scale=2, size=1000)\n",
    "\n",
    "np.mean(normal_dist)"
   ]
  },
  {
   "cell_type": "code",
   "execution_count": 4,
   "metadata": {},
   "outputs": [
    {
     "data": {
      "text/plain": [
       "array([ 7.97321935,  4.48767675,  5.59944254,  7.51851053,  8.47904602,\n",
       "        7.83985868,  3.72789292,  5.88535555,  4.10564084,  2.82907884,\n",
       "        6.27278607,  6.01641327,  3.78278371,  4.79599702,  6.14660199,\n",
       "        5.8864752 ,  7.14160922,  2.66609207,  6.58671328,  3.66165357,\n",
       "        3.30589843,  1.91129327,  3.45853846,  4.03868382,  1.79576553,\n",
       "        1.85650637,  4.51910423,  6.46170466,  0.86176653,  4.81609366,\n",
       "        0.54230799,  4.01439011,  3.83471435, 10.02570257,  7.40373026,\n",
       "        2.75404188,  3.20509469,  5.84972407,  2.04033771,  7.34775289,\n",
       "        5.38713338,  1.24336071,  8.25142301,  5.45015154,  7.20940179,\n",
       "        4.46339522,  4.76401435,  4.90279055,  3.66336858,  5.00725897,\n",
       "        8.0458265 ,  5.62301837,  5.8729105 ,  4.24799737,  0.46402983,\n",
       "        4.13972019,  1.02846767,  3.58984341,  4.92438039,  5.37442284,\n",
       "        5.23710043,  3.4580306 ,  6.30530855,  5.26298102,  5.68224861,\n",
       "        7.61011426,  4.51628943,  2.46414698,  6.6076333 ,  6.5182066 ,\n",
       "        7.61636434,  2.03121611,  2.28762426,  4.44239454,  7.10383579,\n",
       "        5.17667137,  5.22144747,  3.8819054 ,  4.87219876,  6.17852868,\n",
       "        5.15025113,  2.64717918,  5.75990608,  4.15268728,  4.17378322,\n",
       "        5.46538724,  8.54448794,  7.2037356 ,  6.50824828,  4.92244063,\n",
       "        6.98115267,  6.35827723,  5.45292679,  5.11243403,  3.72670929,\n",
       "        3.26493519,  3.48718548,  4.79306114,  4.78097569,  1.79986156,\n",
       "        4.47815489,  3.21073998,  6.70087002,  6.52181234,  4.32258672,\n",
       "        6.16824236, -0.58959864,  3.33211217,  3.99311806,  3.33757949,\n",
       "        4.29875523,  4.33375988,  4.11633642,  6.42561332,  2.64057513,\n",
       "        3.92943264,  4.86645078,  4.72546672,  8.68639593, -1.26878587,\n",
       "        2.94154657,  9.03910064,  5.42138653,  6.6829879 ,  7.6154525 ,\n",
       "        9.1931701 ,  4.24078687,  5.45810743,  3.9721605 ,  6.88682191,\n",
       "        2.65788459,  7.67825695,  4.5605811 ,  5.62669938,  6.78200204,\n",
       "        4.23596919,  5.24514036,  4.48985886,  5.67216739,  5.77171523,\n",
       "        5.99888307,  6.44535596,  1.92595109,  3.56158178,  7.27523199,\n",
       "        5.39377831,  5.17653696,  5.29950737,  5.17182655,  3.54423854,\n",
       "        7.85076572,  7.01818884,  5.11103288,  1.86600705,  4.3473056 ,\n",
       "        3.46122357,  8.44684886,  2.92257152,  3.2720988 ,  6.27316298,\n",
       "        3.24463532,  6.69147477,  7.61619698,  9.14095089,  1.08420439,\n",
       "        3.41963925,  4.64280786,  6.83540238,  5.33976829,  3.6750556 ,\n",
       "        6.61186711,  4.46402017,  6.58481272,  4.15099179,  6.1432593 ,\n",
       "        3.80853307,  3.02007023,  5.36180556,  3.52360901,  1.38469397,\n",
       "        3.55243972,  1.30102703,  2.28777753,  3.88880602,  2.51276777,\n",
       "        3.65904303,  6.90196995,  2.22358218,  3.35635683,  3.0702159 ,\n",
       "        6.32285372,  5.19748307,  1.73535899,  2.14217732,  7.21911187,\n",
       "        7.29096781,  7.44572897,  3.32376316,  6.87206983,  5.05853471,\n",
       "        4.85610722,  4.62909553,  2.81466027,  3.45587861,  6.86094695,\n",
       "        6.85729372,  7.14222249,  7.03059175,  2.89327036,  6.0805965 ,\n",
       "        6.88768269,  3.26401848, 10.03837842,  6.37434457,  4.40750074,\n",
       "        5.38610392,  3.74530662,  7.56325553,  6.99756599,  6.17021113,\n",
       "        2.74395824,  7.81352072,  4.59066707,  6.48233497,  5.9687115 ,\n",
       "        2.39953943,  6.31190211,  3.59296564,  4.78191791,  6.16785054,\n",
       "        8.10164588,  3.99887618,  4.28394567,  4.40311885,  2.76579852,\n",
       "        0.20125958,  3.39142069,  5.488185  ,  5.59241591,  6.37922167,\n",
       "        4.35523444,  6.0224215 ,  6.99820886,  5.22030779,  6.33600045,\n",
       "        5.32897788,  8.12636863,  6.11891802,  4.8920225 ,  2.6393846 ,\n",
       "        6.08861761,  3.57021458,  4.00160539,  4.65916653,  4.91939035,\n",
       "        6.86529679,  5.65891028,  3.90833764,  5.93256181,  4.82218959,\n",
       "        8.15568472,  8.06764389,  4.56154089,  4.83842302,  5.10471725,\n",
       "        9.46739858, 10.83798654,  3.95025228,  7.1337804 ,  7.80442454,\n",
       "        5.31009976,  4.80550674,  4.11365111,  5.88550203,  2.06830117,\n",
       "        0.80220575,  4.13748983,  2.84627416,  5.2164112 ,  2.46997178,\n",
       "        4.881242  ,  4.52255096,  6.62041656,  4.67918758,  4.85332905,\n",
       "        3.28427161,  6.06144892,  5.17802291,  2.61584185,  2.91722512,\n",
       "        1.45692049,  1.7250694 ,  6.52659822,  6.21460096,  3.16292783,\n",
       "        4.65232903,  7.17301681,  6.88932622,  4.51346323,  3.7499915 ,\n",
       "        4.72811249,  9.04521623,  5.17675242,  4.51267196,  8.50443427,\n",
       "        3.14442708,  5.92850441,  6.35885607,  4.35738939,  3.61166079,\n",
       "        5.0487416 ,  6.48649236,  5.90931408,  6.27581363,  3.37611431,\n",
       "        4.13362198,  3.84140019,  3.58131288,  5.70784427,  7.05008524,\n",
       "        2.96887324,  2.84394895,  5.04081182,  2.72094594,  5.8955988 ,\n",
       "        6.94641306,  0.08549317,  5.31272247,  2.51951699,  5.17606005,\n",
       "        7.80223746,  4.14907269,  3.16019905,  5.01526307, -0.06055522,\n",
       "        1.71072943,  5.04095529,  6.3315205 ,  5.47186592,  2.13804522,\n",
       "        4.64225833,  4.51927103,  3.62433328,  4.94101327,  7.12142872,\n",
       "        5.83998903,  3.70391592,  5.27915822,  4.77004975,  3.68038095,\n",
       "        2.00104602,  5.36008489,  5.27744095,  4.84628825,  5.35037863,\n",
       "        3.55861026,  6.83490681,  5.47934261, -0.40048514,  5.32334753,\n",
       "        5.34168028,  6.73331507,  5.57018606,  5.64254635,  6.97450588,\n",
       "        5.14038489,  2.97419741,  3.74404197,  7.32875264,  4.05683671,\n",
       "        4.42094891,  5.73598928,  6.38352172,  2.81196197,  4.69144223,\n",
       "        6.2013235 ,  4.48957798,  7.96850071,  2.03512943,  0.21004313,\n",
       "        5.43654234,  7.47900092,  3.48160688,  9.16496967,  2.86340871,\n",
       "        3.2977344 ,  2.26401897,  5.9024894 ,  3.90782784,  5.545783  ,\n",
       "        8.48279679,  5.94853373,  1.88510682,  6.07088596,  4.35405177,\n",
       "        4.56362908,  5.73639322,  5.54347   ,  5.77465995,  5.67357034,\n",
       "        7.01829837,  2.64545459,  8.81221071,  5.86680961,  3.68773761,\n",
       "        8.84986411,  5.91166918,  6.29219766,  3.36497333,  3.87730843,\n",
       "        4.43734456,  4.76587688,  5.81358676,  1.93893566,  7.71831491,\n",
       "        2.12632514,  3.69122175,  2.73987668,  2.50095004,  5.75245773,\n",
       "        6.80333232,  4.51652896,  7.83537998,  5.83790522,  5.02368453,\n",
       "        6.22300771,  4.91541829,  7.09521218,  3.41379487,  4.05657527,\n",
       "        4.60891202,  5.63024538,  8.32787682,  5.98154364,  3.5784481 ,\n",
       "        1.29253516,  3.26555076,  7.78375658,  5.59863355,  4.15920486,\n",
       "        3.58131835,  5.25160775,  2.94049996,  7.29124927,  7.13461703,\n",
       "        3.83991639,  5.6952414 ,  2.95524812,  6.07352993,  4.12388053,\n",
       "        4.72304575,  3.20159069,  1.76968667,  6.27665599,  2.2507684 ,\n",
       "        5.78842916,  6.29941778,  5.53670304,  5.43827981,  2.21687398,\n",
       "        6.87267738,  4.47692473,  6.04041339,  2.64432657,  3.0911857 ,\n",
       "        5.25712755,  3.84584223,  4.6695429 ,  7.41660697,  6.99579074,\n",
       "        5.82734735,  7.35094027,  7.34828051,  6.76257255,  3.85238498,\n",
       "        4.6906426 ,  5.1591602 ,  3.22419404,  1.87948803,  5.12327157,\n",
       "        6.71023339,  8.09871114,  2.41408585,  4.31157461,  5.80648678,\n",
       "        6.70482654,  7.15601836,  8.27534632,  3.7582929 ,  3.94255024,\n",
       "        9.26309997,  6.54436119,  9.84624439,  6.27399683,  3.95291797,\n",
       "        8.85829768,  5.03674475,  5.76511277,  5.85376918,  4.43400714,\n",
       "        7.3748109 ,  4.23388167,  5.62046468,  7.43432099,  2.94261461,\n",
       "        0.8362412 ,  2.98299393,  7.46074276,  5.33974248,  4.18364924,\n",
       "        5.82167173,  1.57943875,  3.23864115,  5.43945281,  5.44379882,\n",
       "        4.28445343,  5.90938037,  6.62371278,  4.83197183,  7.38332306,\n",
       "        4.73747452,  1.79096102,  8.12813889,  3.63842261,  7.437936  ,\n",
       "        6.62130589,  6.62632157,  6.6628015 ,  6.47015141,  3.28073645,\n",
       "        5.04010562,  5.7303981 ,  5.22714713,  5.22628404,  8.96943984,\n",
       "        1.62116211,  5.29422672,  6.15831065,  5.32901216,  0.77154129,\n",
       "        6.06544805,  5.42763203,  3.56781593,  4.76946137,  7.19628798,\n",
       "        0.95910647,  5.25379117,  4.90880345,  4.06542747,  6.08944899,\n",
       "        0.08389249,  2.22244785,  7.17006297,  5.0997043 ,  5.53515747,\n",
       "        3.80827856,  5.2347026 ,  1.00208637,  5.08911525,  2.19469937,\n",
       "        3.52267442,  4.59409361,  6.46029368,  5.06941395,  3.99180766,\n",
       "        6.95298272,  5.54439435,  3.03121565,  5.10910337,  4.06765827,\n",
       "        3.92110554,  2.87917172,  6.94612747, 10.37334966,  5.20803181,\n",
       "        4.9605806 ,  5.4174534 ,  5.44676256,  5.09220011,  6.18849952,\n",
       "        6.52015698,  7.3039205 ,  2.18990541,  7.47032929,  5.99889265,\n",
       "        4.71958799,  3.66691205,  6.16402298,  6.21822919,  3.47074644,\n",
       "        7.7276066 ,  4.57609279,  2.7455579 ,  6.79945266,  3.18765835,\n",
       "        2.45893052,  4.27836839,  3.20718756,  4.17402843,  2.9620503 ,\n",
       "        6.00392921,  7.03950339,  2.86537199,  6.17854729,  6.84373314,\n",
       "        2.31539901,  4.59403666,  5.96407953,  2.99844911,  7.46761605,\n",
       "        5.71305821,  4.02633537,  4.4089311 ,  9.69596149,  5.34200428,\n",
       "        5.4452845 ,  8.38357243,  7.12900534,  5.29120566,  6.22413603,\n",
       "        5.21653639,  8.06760543,  5.32389816,  3.63651033,  3.13524501,\n",
       "        5.93854965,  3.72944252,  4.96845782,  8.15801548,  6.86277972,\n",
       "        3.65611546,  4.5679803 ,  4.16377484,  5.07242315,  5.28671949,\n",
       "        5.75000714,  3.01164702,  6.02979559,  5.96497755,  3.93465167,\n",
       "        5.97481901,  6.6067043 ,  6.47399271,  6.65861883,  4.43045857,\n",
       "        2.88080723,  4.71615355,  4.65595182,  5.45191959,  6.46758383,\n",
       "        6.73013675,  3.61292842,  2.09027046,  7.42274853,  5.71184504,\n",
       "        4.9955664 ,  4.77691375,  6.03333988,  7.73490718,  0.04052713,\n",
       "        5.74192513,  5.53237916,  4.79345849,  5.34459118,  3.86338471,\n",
       "        3.57923238,  2.22321113,  6.55262984,  6.98348761,  4.99137157,\n",
       "        1.50111901,  2.69459327,  2.71418583,  5.98679755,  4.63024383,\n",
       "        1.56516963,  8.698831  ,  5.96322424,  6.53832697,  7.8659019 ,\n",
       "        6.33097368,  5.48109323,  4.53244146,  4.09507145,  6.19674575,\n",
       "        4.17629729,  1.32222356,  0.939255  ,  4.22606109,  8.27001499,\n",
       "        4.89995156,  6.67630602,  4.28568534,  1.57445122,  3.97756159,\n",
       "        2.1776855 ,  3.22111469,  6.72718741,  5.41979829,  5.4958035 ,\n",
       "        4.40682819,  6.4033862 ,  4.72400077,  6.42528802,  5.20996811,\n",
       "        4.64998744,  6.53116623,  2.96335741,  5.97906449,  3.6057007 ,\n",
       "        1.46392687, -0.08554307,  2.15608851,  2.92987926,  5.5202406 ,\n",
       "        7.47207518,  7.19694815,  3.29813253,  6.07811619,  4.64603157,\n",
       "        4.31512302,  5.6394739 ,  6.67684193,  3.33762527,  6.68311402,\n",
       "        7.02180391,  6.48681722,  6.21419958,  2.64746953,  3.27537834,\n",
       "        6.61735063,  3.21376342,  0.71367706,  4.03830455,  5.48481881,\n",
       "        2.02209309,  4.76825344,  5.10226111,  4.00945383,  3.48484571,\n",
       "        6.37349543,  3.15819293,  4.30351592,  6.83258393,  9.60907096,\n",
       "        8.14559597,  8.80866439,  6.15826193,  4.399715  ,  4.85614877,\n",
       "        1.78862756,  6.43316396,  7.75024399,  4.85622897,  4.95678061,\n",
       "        5.18868656,  3.93194269,  3.86787206,  3.62179683, -2.01599145,\n",
       "        2.7783184 ,  7.64716593,  5.19688104,  3.77841909,  5.89950392,\n",
       "        1.71582732,  5.9336757 ,  2.53885045,  5.43648046,  6.45165434,\n",
       "        6.83641293,  4.15585728,  9.11582466,  4.5858381 ,  8.30747707,\n",
       "        4.29305398,  4.37753818,  7.53574035,  3.54176323,  5.39702585,\n",
       "        6.0018107 ,  7.23990769,  4.39132455,  7.81736722,  7.67287288,\n",
       "        5.41745893,  4.56478288,  4.51698885,  6.02120791,  1.51623214,\n",
       "        6.805029  ,  4.02258281,  6.11666748,  4.31310359,  2.70616253,\n",
       "        1.50770242,  8.61127435,  5.46194791,  6.43776314,  4.6456672 ,\n",
       "        4.92534185,  2.97934016,  6.16265068,  6.14527227,  5.87169424,\n",
       "        4.31105373,  3.86326952,  8.05643105,  1.3780928 ,  6.98686102,\n",
       "        7.36053613,  6.91102899,  6.20215501,  6.88938316,  3.2754162 ,\n",
       "        5.88224676,  6.39469932,  3.09789397,  4.08194047,  4.52526294,\n",
       "        6.41546443,  3.5256863 ,  5.24190061,  1.59084546,  7.99040353,\n",
       "        6.67091946,  2.89761044,  4.85254828,  2.42738567,  1.30572096,\n",
       "        2.31616973,  3.98518447,  5.60050624,  3.1332745 ,  6.90407038,\n",
       "        8.070888  ,  5.55614989,  7.1939314 ,  4.88016933,  5.99603119,\n",
       "        3.33350891,  6.52601352,  6.18483788,  4.58048846,  3.71834129,\n",
       "        7.35859764,  5.17683681,  4.83062268,  4.20065996,  3.20752078,\n",
       "        3.5669243 ,  9.18464424,  6.87942174,  2.4507078 ,  1.97173371,\n",
       "        2.21892873,  8.14302274,  5.88094755,  3.10990353,  6.24105042,\n",
       "        5.74221855,  9.36314588,  6.20500389,  6.08761576,  1.39789489,\n",
       "        3.3582759 ,  7.01483826,  3.50334233,  5.61450587,  4.72526569,\n",
       "        3.49854887,  3.76541458,  6.88304347,  3.33990785,  6.00576662,\n",
       "        2.40928185,  2.36137032,  3.70167322,  5.68438878,  1.76170047,\n",
       "        4.82515861,  5.20428747,  6.76270278,  3.59564175,  3.52119008,\n",
       "        7.24857936,  3.9701066 ,  1.08435502,  3.09348571,  4.9988453 ,\n",
       "        4.04319926,  7.88433356,  4.9772582 ,  5.06452499,  6.55077397,\n",
       "        5.68941226,  3.52259169,  6.4215953 ,  5.81020904,  8.51843178,\n",
       "        8.93494673,  5.70726306,  5.10629679,  3.0692985 ,  2.50193738,\n",
       "        2.89905156,  2.02663817,  5.8568703 ,  6.58466556,  5.66547965,\n",
       "        4.0233578 ,  7.23566739,  5.64845441,  8.96430862,  7.79360227,\n",
       "        7.31481006,  5.1217937 ,  5.74530956,  4.25685007,  0.38268569,\n",
       "        6.79772715,  7.00927278,  4.61895   ,  3.6386599 ,  3.38756278,\n",
       "        7.90761177,  5.00059375,  2.71427441,  2.98317605,  4.55501406,\n",
       "        6.33243461,  4.45683345,  7.56257482,  3.33204062,  5.78550527,\n",
       "        6.3815499 ,  6.63492625,  5.65458327,  5.7528704 ,  7.46819875,\n",
       "        2.41244861,  8.06802519,  5.17706989,  7.17378935,  6.85764196,\n",
       "        4.24823789,  4.2361852 ,  6.52772236,  3.57318811,  4.41338714,\n",
       "        4.88769457,  6.09683667,  4.09148174,  2.23604072,  9.8964478 ,\n",
       "        8.61716166,  4.95275589,  6.56627809,  8.47817916,  7.62053161,\n",
       "        5.26574729,  6.53953274,  8.33432511,  6.59894355,  2.50353453,\n",
       "        4.98901802,  6.22238337,  4.56683465,  5.82011212,  4.87727806,\n",
       "        4.83757808,  6.69056106,  5.20629883,  4.71576022,  9.38417689,\n",
       "        3.86623633,  4.71936761,  4.19692276,  3.44489394,  5.63521632,\n",
       "        4.36998785,  5.1962564 ,  4.40088404,  4.53294173,  4.03202695,\n",
       "        6.82579676,  7.64359048,  5.5514258 ,  6.39968348,  4.57064056,\n",
       "        3.64663087,  4.20004675,  5.78118316,  4.86284013,  6.32725396,\n",
       "        4.82714518,  3.46073147,  7.24541121,  5.02047902,  5.43260534])"
      ]
     },
     "execution_count": 4,
     "metadata": {},
     "output_type": "execute_result"
    }
   ],
   "source": [
    "normal_dist"
   ]
  },
  {
   "cell_type": "code",
   "execution_count": 5,
   "metadata": {},
   "outputs": [
    {
     "data": {
      "text/plain": [
       "-1.3322676295501878e-16"
      ]
     },
     "execution_count": 5,
     "metadata": {},
     "output_type": "execute_result"
    }
   ],
   "source": [
    "# Here, let's standardize by hand\n",
    "# (x - mean) / std\n",
    "z_dist = [(x - np.mean(normal_dist)) / np.std(normal_dist)\n",
    "          for x in normal_dist]\n",
    "\n",
    "np.mean(z_dist)"
   ]
  },
  {
   "cell_type": "code",
   "execution_count": 6,
   "metadata": {},
   "outputs": [
    {
     "data": {
      "image/png": "[encoded data removed]",
      "text/plain": [
       "<Figure size 720x432 with 2 Axes>"
      ]
     },
     "metadata": {
      "needs_background": "light"
     },
     "output_type": "display_data"
    }
   ],
   "source": [
    "# Visualize it\n",
    "fig, (ax0, ax1) = plt.subplots(nrows=2, sharex=True, figsize=(10, 6))\n",
    "\n",
    "sns.histplot(data=normal_dist, ax=ax0)\n",
    "ax0.set_title('Before Standardization')\n",
    "\n",
    "sns.histplot(data=z_dist, ax=ax1)\n",
    "ax1.set_title('After Standardization')\n",
    "\n",
    "plt.tight_layout()"
   ]
  },
  {
   "cell_type": "markdown",
   "metadata": {
    "hidden": true
   },
   "source": [
    "Talking about the **standard normal distribution** can be very convenient since the values correspond to the number of standard deviations above or below the mean."
   ]
  },
  {
   "cell_type": "markdown",
   "metadata": {
    "heading_collapsed": true,
    "hidden": true
   },
   "source": [
    "## $z$-Score"
   ]
  },
  {
   "cell_type": "markdown",
   "metadata": {
    "hidden": true
   },
   "source": [
    "A **$z$-score** for a specific data point $x$ (in a normal distribution) is simply the distance to the mean in the units of standard deviations\n",
    "\n",
    "$$\\large z = \\frac{x - \\mu}{\\sigma}$$\n",
    "\n",
    "By calculating the z-score of an individual point, we can see how unlikely a value is."
   ]
  },
  {
   "cell_type": "markdown",
   "metadata": {
    "hidden": true
   },
   "source": [
    "Here's a little site with some [interactive Gaussians](https://www.intmath.com/counting-probability/normal-distribution-graph-interactive.php)"
   ]
  },
  {
   "cell_type": "markdown",
   "metadata": {
    "heading_collapsed": true,
    "hidden": true
   },
   "source": [
    "#### 🧠 Knowledge Check"
   ]
  },
  {
   "cell_type": "markdown",
   "metadata": {
    "hidden": true
   },
   "source": [
    "What would the $z$-score be for the middle of a normal curve?\n",
    "\n",
    "- 0\n"
   ]
  },
  {
   "cell_type": "markdown",
   "metadata": {
    "heading_collapsed": true,
    "hidden": true
   },
   "source": [
    "### The Empirical Rule"
   ]
  },
  {
   "cell_type": "markdown",
   "metadata": {
    "hidden": true
   },
   "source": [
    "> Rule states that $68\\%$ of the values of a normal distribution of data lie within 1 standard deviation ($\\sigma$) of the mean, $95\\%$ within $2\\sigma$, and $99.7\\%$ within $3\\sigma$.  \n",
    "\n",
    "This makes it really quick to look at a normal distribution and understand where values tend to lie"
   ]
  },
  {
   "cell_type": "markdown",
   "metadata": {
    "hidden": true
   },
   "source": [
    "<img src='https://github.com/learn-co-students/dsc-0-09-12-gaussian-distributions-online-ds-ft-031119/blob/master/normalsd.jpg?raw=true' width=700/>"
   ]
  },
  {
   "cell_type": "markdown",
   "metadata": {
    "heading_collapsed": true,
    "hidden": true
   },
   "source": [
    "#### 🧠 Knowledge Check"
   ]
  },
  {
   "cell_type": "markdown",
   "metadata": {
    "hidden": true
   },
   "source": [
    "About what percentage of the values would be between a $z$-score of $-1$ and a $z$-score of $2$?\n",
    "\n",
    "<details>\n",
    "    <summary>Answer</summary>\n",
    "    About $82\\%$\n",
    "</details>"
   ]
  },
  {
   "cell_type": "code",
   "execution_count": 7,
   "metadata": {},
   "outputs": [
    {
     "data": {
      "text/plain": [
       "81.5"
      ]
     },
     "execution_count": 7,
     "metadata": {},
     "output_type": "execute_result"
    }
   ],
   "source": [
    "34 + 34 + 13.5"
   ]
  },
  {
   "cell_type": "markdown",
   "metadata": {
    "heading_collapsed": true
   },
   "source": [
    "# Exercises"
   ]
  },
  {
   "cell_type": "markdown",
   "metadata": {},
   "source": [
    "The distribution of people's heights in the United States has a **mean of 66 inches** and a **standard deviation of 4 inches**. "
   ]
  },
  {
   "cell_type": "markdown",
   "metadata": {
    "heading_collapsed": true,
    "hidden": true
   },
   "source": [
    "## Height $z$-score"
   ]
  },
  {
   "cell_type": "markdown",
   "metadata": {
    "hidden": true
   },
   "source": [
    "Calculate the z-score of a height of **76 inches.**"
   ]
  },
  {
   "cell_type": "code",
   "execution_count": 8,
   "metadata": {
    "hidden": true
   },
   "outputs": [
    {
     "data": {
      "text/plain": [
       "2.5"
      ]
     },
     "execution_count": 8,
     "metadata": {},
     "output_type": "execute_result"
    }
   ],
   "source": [
    "# Your code here\n",
    "(76 - 66) / 4"
   ]
  },
  {
   "cell_type": "markdown",
   "metadata": {},
   "source": [
    "<details>\n",
    "    <summary>Answer</summary>\n",
    "    <code># z-score: z = (x - mu) / std\n",
    "(76 - 66) / 4</code>\n",
    "</details>"
   ]
  },
  {
   "cell_type": "markdown",
   "metadata": {},
   "source": [
    "#### Describe the z-score - what does it tell us?\n",
    "- a height of 76 inches is 2.5 stds away from mean (postive = larger)"
   ]
  },
  {
   "cell_type": "code",
   "execution_count": 9,
   "metadata": {},
   "outputs": [
    {
     "data": {
      "text/plain": [
       "0.006209665325776159"
      ]
     },
     "execution_count": 9,
     "metadata": {},
     "output_type": "execute_result"
    }
   ],
   "source": [
    "1 - stats.norm(loc=0, scale=1).cdf(2.5)"
   ]
  },
  {
   "cell_type": "code",
   "execution_count": 10,
   "metadata": {},
   "outputs": [
    {
     "data": {
      "text/plain": [
       "0.006209665325776159"
      ]
     },
     "execution_count": 10,
     "metadata": {},
     "output_type": "execute_result"
    }
   ],
   "source": [
    "1 - stats.norm(loc=66, scale=4).cdf(76)"
   ]
  },
  {
   "cell_type": "markdown",
   "metadata": {
    "heading_collapsed": true,
    "hidden": true
   },
   "source": [
    "## Height Empirical Rule"
   ]
  },
  {
   "cell_type": "markdown",
   "metadata": {
    "hidden": true
   },
   "source": [
    "Determine the proportion of those whose height is between **62 inches and 74 inches**."
   ]
  },
  {
   "cell_type": "code",
   "execution_count": 11,
   "metadata": {},
   "outputs": [
    {
     "data": {
      "text/plain": [
       "(-1.0, 2.0)"
      ]
     },
     "execution_count": 11,
     "metadata": {},
     "output_type": "execute_result"
    }
   ],
   "source": [
    "# Your code here\n",
    "z_62 = (62 - 66) / 4\n",
    "z_74 = (74 - 66) / 4\n",
    "z_62, z_74"
   ]
  },
  {
   "cell_type": "markdown",
   "metadata": {},
   "source": [
    "<details>\n",
    "    <summary>Answer 1</summary>\n",
    "<code># z-scores for 62\" and 74\":\n",
    "z_62 = (62 - 66) / 4\n",
    "z_74 = (74 - 66) / 4\n",
    "z_62, z_74</code>\n",
    "    </details>"
   ]
  },
  {
   "cell_type": "markdown",
   "metadata": {},
   "source": [
    "<details>\n",
    "    <summary>Answer 2</summary>\n",
    "    <code>heights = stats.norm(loc=66, scale=4)\n",
    "heights.cdf(74) - heights.cdf(62)</code>\n",
    "    </details>"
   ]
  },
  {
   "cell_type": "code",
   "execution_count": 12,
   "metadata": {},
   "outputs": [],
   "source": [
    "height_dist = stats.norm(loc=66, scale=4)"
   ]
  },
  {
   "cell_type": "code",
   "execution_count": 13,
   "metadata": {
    "scrolled": true
   },
   "outputs": [
    {
     "data": {
      "text/plain": [
       "0.9772498680518208"
      ]
     },
     "execution_count": 13,
     "metadata": {},
     "output_type": "execute_result"
    }
   ],
   "source": [
    "height_dist.cdf(74)"
   ]
  },
  {
   "cell_type": "code",
   "execution_count": 14,
   "metadata": {
    "scrolled": true
   },
   "outputs": [
    {
     "data": {
      "text/plain": [
       "0.15865525393145707"
      ]
     },
     "execution_count": 14,
     "metadata": {},
     "output_type": "execute_result"
    }
   ],
   "source": [
    "height_dist.cdf(62)"
   ]
  },
  {
   "cell_type": "code",
   "execution_count": 15,
   "metadata": {},
   "outputs": [
    {
     "data": {
      "text/plain": [
       "0.8185946141203637"
      ]
     },
     "execution_count": 15,
     "metadata": {},
     "output_type": "execute_result"
    }
   ],
   "source": [
    "height_dist.cdf(74) - height_dist.cdf(62)"
   ]
  },
  {
   "cell_type": "markdown",
   "metadata": {
    "heading_collapsed": true,
    "hidden": true
   },
   "source": [
    "## Height Percentile"
   ]
  },
  {
   "cell_type": "markdown",
   "metadata": {
    "hidden": true
   },
   "source": [
    "Assuming the above distribution of people's heights in the United States is approximately normal, what percent of people have a height **less than 75 inches**?"
   ]
  },
  {
   "cell_type": "code",
   "execution_count": 16,
   "metadata": {},
   "outputs": [
    {
     "data": {
      "text/plain": [
       "0.9877755273449553"
      ]
     },
     "execution_count": 16,
     "metadata": {},
     "output_type": "execute_result"
    }
   ],
   "source": [
    "# Your code here\n",
    "height_dist.cdf(75)"
   ]
  },
  {
   "cell_type": "code",
   "execution_count": 17,
   "metadata": {},
   "outputs": [
    {
     "data": {
      "text/plain": [
       "0.9877755265514641"
      ]
     },
     "execution_count": 17,
     "metadata": {},
     "output_type": "execute_result"
    }
   ],
   "source": [
    "height_dist.cdf(74.9999999)"
   ]
  },
  {
   "cell_type": "markdown",
   "metadata": {},
   "source": [
    "<details>\n",
    "    <summary>Answer</summary>\n",
    "    <code>heights.cdf(75)</code>\n",
    "    </details>"
   ]
  },
  {
   "cell_type": "markdown",
   "metadata": {
    "heading_collapsed": true,
    "hidden": true
   },
   "source": [
    "## Bonus"
   ]
  },
  {
   "cell_type": "markdown",
   "metadata": {
    "hidden": true
   },
   "source": [
    "Assuming the above distribution of people's heights in the United States is approximately normal, what range of heights contain the **middle 50% of values**, also known as the _interquartile range_ (IQR)?"
   ]
  },
  {
   "cell_type": "code",
   "execution_count": 18,
   "metadata": {},
   "outputs": [
    {
     "data": {
      "text/plain": [
       "-0.6744897501960817"
      ]
     },
     "execution_count": 18,
     "metadata": {},
     "output_type": "execute_result"
    }
   ],
   "source": [
    "# z_dist\n",
    "z_dist = stats.norm(loc=0, scale=1)\n",
    "z_dist.ppf(.25)"
   ]
  },
  {
   "cell_type": "code",
   "execution_count": 19,
   "metadata": {
    "scrolled": true
   },
   "outputs": [
    {
     "data": {
      "text/plain": [
       "(63.30204099921567, 68.69795900078432)"
      ]
     },
     "execution_count": 19,
     "metadata": {},
     "output_type": "execute_result"
    }
   ],
   "source": [
    "height_dist.ppf(.25), height_dist.ppf(.75)"
   ]
  },
  {
   "cell_type": "markdown",
   "metadata": {},
   "source": [
    "<details>\n",
    "    <summary>Answer</summary>\n",
    "    <code>heights.ppf(0.25), heights.ppf(0.75)</code>\n",
    "    </details>"
   ]
  },
  {
   "cell_type": "markdown",
   "metadata": {},
   "source": [
    "## Time for Pandas!\n",
    "\n",
    "Let's use the same Seattle City Employee data from the first Distributions lecture to check out what scaling looks like in practice!\n",
    "\n",
    "Data source: https://data.seattle.gov/City-Business/City-of-Seattle-Wage-Data/2khk-5ukd"
   ]
  },
  {
   "cell_type": "code",
   "execution_count": 20,
   "metadata": {},
   "outputs": [],
   "source": [
    "# Read in the data\n",
    "df = pd.read_csv('data/City_of_Seattle_Wage_Data_031422.csv')"
   ]
  },
  {
   "cell_type": "code",
   "execution_count": 21,
   "metadata": {},
   "outputs": [
    {
     "data": {
      "text/html": [
       "<div>\n",
       "<style scoped>\n",
       "    .dataframe tbody tr th:only-of-type {\n",
       "        vertical-align: middle;\n",
       "    }\n",
       "\n",
       "    .dataframe tbody tr th {\n",
       "        vertical-align: top;\n",
       "    }\n",
       "\n",
       "    .dataframe thead th {\n",
       "        text-align: right;\n",
       "    }\n",
       "</style>\n",
       "<table border=\"1\" class=\"dataframe\">\n",
       "  <thead>\n",
       "    <tr style=\"text-align: right;\">\n",
       "      <th></th>\n",
       "      <th>Department</th>\n",
       "      <th>Last Name</th>\n",
       "      <th>First Name</th>\n",
       "      <th>Job Title</th>\n",
       "      <th>Hourly Rate</th>\n",
       "    </tr>\n",
       "  </thead>\n",
       "  <tbody>\n",
       "    <tr>\n",
       "      <th>0</th>\n",
       "      <td>Seattle Public Utilities</td>\n",
       "      <td>Batchelor</td>\n",
       "      <td>Craig</td>\n",
       "      <td>Civil Engrng Spec,Sr</td>\n",
       "      <td>53.740</td>\n",
       "    </tr>\n",
       "    <tr>\n",
       "      <th>1</th>\n",
       "      <td>Finance &amp; Admin Services</td>\n",
       "      <td>Altice</td>\n",
       "      <td>Jeffrey</td>\n",
       "      <td>Auto Mechanic</td>\n",
       "      <td>39.780</td>\n",
       "    </tr>\n",
       "    <tr>\n",
       "      <th>2</th>\n",
       "      <td>Finance &amp; Admin Services</td>\n",
       "      <td>Montes</td>\n",
       "      <td>Valeria</td>\n",
       "      <td>Cust Svc Rep</td>\n",
       "      <td>29.450</td>\n",
       "    </tr>\n",
       "    <tr>\n",
       "      <th>3</th>\n",
       "      <td>Fire Department</td>\n",
       "      <td>Kuklok</td>\n",
       "      <td>Rebecca</td>\n",
       "      <td>Cust Svc Rep *</td>\n",
       "      <td>29.450</td>\n",
       "    </tr>\n",
       "    <tr>\n",
       "      <th>4</th>\n",
       "      <td>Planning &amp; Comm Development</td>\n",
       "      <td>Quirindongo</td>\n",
       "      <td>Rico</td>\n",
       "      <td>Executive3</td>\n",
       "      <td>97.164</td>\n",
       "    </tr>\n",
       "  </tbody>\n",
       "</table>\n",
       "</div>"
      ],
      "text/plain": [
       "                    Department    Last Name First Name             Job Title  \\\n",
       "0     Seattle Public Utilities    Batchelor      Craig  Civil Engrng Spec,Sr   \n",
       "1     Finance & Admin Services       Altice    Jeffrey         Auto Mechanic   \n",
       "2     Finance & Admin Services       Montes    Valeria          Cust Svc Rep   \n",
       "3              Fire Department       Kuklok    Rebecca        Cust Svc Rep *   \n",
       "4  Planning & Comm Development  Quirindongo       Rico            Executive3   \n",
       "\n",
       "   Hourly Rate   \n",
       "0        53.740  \n",
       "1        39.780  \n",
       "2        29.450  \n",
       "3        29.450  \n",
       "4        97.164  "
      ]
     },
     "execution_count": 21,
     "metadata": {},
     "output_type": "execute_result"
    }
   ],
   "source": [
    "# Check it\n",
    "df.head()"
   ]
  },
  {
   "cell_type": "code",
   "execution_count": 22,
   "metadata": {},
   "outputs": [],
   "source": [
    "# Rename the columns\n",
    "df = df.rename(columns = lambda x: x.replace(\" \", \"\"))"
   ]
  },
  {
   "cell_type": "code",
   "execution_count": 23,
   "metadata": {},
   "outputs": [
    {
     "data": {
      "text/html": [
       "<div>\n",
       "<style scoped>\n",
       "    .dataframe tbody tr th:only-of-type {\n",
       "        vertical-align: middle;\n",
       "    }\n",
       "\n",
       "    .dataframe tbody tr th {\n",
       "        vertical-align: top;\n",
       "    }\n",
       "\n",
       "    .dataframe thead th {\n",
       "        text-align: right;\n",
       "    }\n",
       "</style>\n",
       "<table border=\"1\" class=\"dataframe\">\n",
       "  <thead>\n",
       "    <tr style=\"text-align: right;\">\n",
       "      <th></th>\n",
       "      <th>HourlyRate</th>\n",
       "    </tr>\n",
       "  </thead>\n",
       "  <tbody>\n",
       "    <tr>\n",
       "      <th>count</th>\n",
       "      <td>11739.000000</td>\n",
       "    </tr>\n",
       "    <tr>\n",
       "      <th>mean</th>\n",
       "      <td>47.817331</td>\n",
       "    </tr>\n",
       "    <tr>\n",
       "      <th>std</th>\n",
       "      <td>16.722128</td>\n",
       "    </tr>\n",
       "    <tr>\n",
       "      <th>min</th>\n",
       "      <td>5.530000</td>\n",
       "    </tr>\n",
       "    <tr>\n",
       "      <th>25%</th>\n",
       "      <td>35.400000</td>\n",
       "    </tr>\n",
       "    <tr>\n",
       "      <th>50%</th>\n",
       "      <td>47.340000</td>\n",
       "    </tr>\n",
       "    <tr>\n",
       "      <th>75%</th>\n",
       "      <td>59.550000</td>\n",
       "    </tr>\n",
       "    <tr>\n",
       "      <th>max</th>\n",
       "      <td>187.767000</td>\n",
       "    </tr>\n",
       "  </tbody>\n",
       "</table>\n",
       "</div>"
      ],
      "text/plain": [
       "         HourlyRate\n",
       "count  11739.000000\n",
       "mean      47.817331\n",
       "std       16.722128\n",
       "min        5.530000\n",
       "25%       35.400000\n",
       "50%       47.340000\n",
       "75%       59.550000\n",
       "max      187.767000"
      ]
     },
     "execution_count": 23,
     "metadata": {},
     "output_type": "execute_result"
    }
   ],
   "source": [
    "# Describe the numeric column\n",
    "df.describe()"
   ]
  },
  {
   "cell_type": "code",
   "execution_count": 24,
   "metadata": {},
   "outputs": [
    {
     "data": {
      "image/png": "[encoded data removed]",
      "text/plain": [
       "<Figure size 432x288 with 1 Axes>"
      ]
     },
     "metadata": {
      "needs_background": "light"
     },
     "output_type": "display_data"
    }
   ],
   "source": [
    "# Plot the hourly rate column\n",
    "sns.kdeplot(df['HourlyRate']);"
   ]
  },
  {
   "cell_type": "markdown",
   "metadata": {},
   "source": [
    "How can we describe this distribution?\n",
    "\n",
    "- Extreme high postive values, outliers\n",
    "- Bimodal or maybe even trimodal\n",
    "- Not perfectly normal, but it is kinda normal\n"
   ]
  },
  {
   "cell_type": "markdown",
   "metadata": {},
   "source": [
    "### Using Z-Scores"
   ]
  },
  {
   "cell_type": "code",
   "execution_count": 25,
   "metadata": {
    "scrolled": true
   },
   "outputs": [
    {
     "data": {
      "text/html": [
       "<div>\n",
       "<style scoped>\n",
       "    .dataframe tbody tr th:only-of-type {\n",
       "        vertical-align: middle;\n",
       "    }\n",
       "\n",
       "    .dataframe tbody tr th {\n",
       "        vertical-align: top;\n",
       "    }\n",
       "\n",
       "    .dataframe thead th {\n",
       "        text-align: right;\n",
       "    }\n",
       "</style>\n",
       "<table border=\"1\" class=\"dataframe\">\n",
       "  <thead>\n",
       "    <tr style=\"text-align: right;\">\n",
       "      <th></th>\n",
       "      <th>Department</th>\n",
       "      <th>LastName</th>\n",
       "      <th>FirstName</th>\n",
       "      <th>JobTitle</th>\n",
       "      <th>HourlyRate</th>\n",
       "    </tr>\n",
       "  </thead>\n",
       "  <tbody>\n",
       "    <tr>\n",
       "      <th>4807</th>\n",
       "      <td>Seattle Public Utilities</td>\n",
       "      <td>Woodbury</td>\n",
       "      <td>Anthony</td>\n",
       "      <td>Drainage&amp;Wstwtr Lead Wkr CII</td>\n",
       "      <td>43.27</td>\n",
       "    </tr>\n",
       "  </tbody>\n",
       "</table>\n",
       "</div>"
      ],
      "text/plain": [
       "                    Department  LastName FirstName  \\\n",
       "4807  Seattle Public Utilities  Woodbury   Anthony   \n",
       "\n",
       "                          JobTitle  HourlyRate  \n",
       "4807  Drainage&Wstwtr Lead Wkr CII       43.27  "
      ]
     },
     "execution_count": 25,
     "metadata": {},
     "output_type": "execute_result"
    }
   ],
   "source": [
    "# Grab a sample row\n",
    "sample_row = df.sample(1)\n",
    "sample_row"
   ]
  },
  {
   "cell_type": "code",
   "execution_count": 26,
   "metadata": {},
   "outputs": [
    {
     "data": {
      "text/plain": [
       "-0.27193495613077234"
      ]
     },
     "execution_count": 26,
     "metadata": {},
     "output_type": "execute_result"
    }
   ],
   "source": [
    "# Calculate the z-score for that row's HourlyRate\n",
    "(sample_row['HourlyRate'].values[0] - df['HourlyRate'].mean()) / df['HourlyRate'].std()"
   ]
  },
  {
   "cell_type": "code",
   "execution_count": 27,
   "metadata": {
    "scrolled": true
   },
   "outputs": [
    {
     "data": {
      "text/plain": [
       "16.722127999840392"
      ]
     },
     "execution_count": 27,
     "metadata": {},
     "output_type": "execute_result"
    }
   ],
   "source": [
    "df['HourlyRate'].std()"
   ]
  },
  {
   "cell_type": "code",
   "execution_count": 28,
   "metadata": {
    "scrolled": true
   },
   "outputs": [],
   "source": [
    "# Standardize the column\n",
    "mu = df['HourlyRate'].mean()\n",
    "sigma = df['HourlyRate'].std()\n",
    "standardized_rate = [(x-mu)/sigma for x in df['HourlyRate']]"
   ]
  },
  {
   "cell_type": "code",
   "execution_count": 29,
   "metadata": {},
   "outputs": [
    {
     "data": {
      "image/png": "[encoded data removed]",
      "text/plain": [
       "<Figure size 432x288 with 2 Axes>"
      ]
     },
     "metadata": {
      "needs_background": "light"
     },
     "output_type": "display_data"
    }
   ],
   "source": [
    "# Visualize it\n",
    "fig, (ax1, ax2) = plt.subplots(nrows=2, ncols=1, sharex=True)\n",
    "# Can toggle sharex to see the impact of the scale\n",
    "\n",
    "sns.kdeplot(df['HourlyRate'], ax=ax1, label='Without Scaling')\n",
    "ax1.legend()\n",
    "\n",
    "sns.kdeplot(standardized_rate, ax=ax2, label='With Scaling')\n",
    "ax2.legend()\n",
    "\n",
    "plt.show()"
   ]
  },
  {
   "cell_type": "markdown",
   "metadata": {},
   "source": [
    "Let's discuss:\n",
    "- values in units of stds away from mean"
   ]
  },
  {
   "cell_type": "markdown",
   "metadata": {},
   "source": [
    "## Central Limit Theorem (CLT)\n",
    "\n",
    "We mentioned that the distribution above doesn't seem very normal. But here's something cool:\n",
    "\n",
    "> \"The central limit theorem states that the sampling distribution of the mean of any independent, random variable will be normal or nearly normal, if the sample size is large enough.\" \n",
    "- From [Stat Trek](https://stattrek.com/statistics/dictionary.aspx?definition=central_limit_theorem)"
   ]
  },
  {
   "cell_type": "markdown",
   "metadata": {},
   "source": [
    "Let's look at an example, using the popular Iris dataset:\n",
    "\n",
    "<img src=\"images/probability-basics.gif\" width=800>\n",
    "\n",
    "Here, taking samples of 15 flowers at a time and measuring their sepal lengths, we see that the the mean of the samples is normally distributed, where the mean of that normal distribution approximates the population mean. \n",
    "\n",
    "The coolest part is - this is true and works almost no matter what the original distribution is! (I say 'almost' because there are exceptions, of course). Even when we have _distinctly non-normal distributions_, we can use sampling to get a representation of population parameters (like the population mean)."
   ]
  },
  {
   "cell_type": "markdown",
   "metadata": {},
   "source": [
    "## Revisiting Sampling\n",
    "\n",
    "Before we apply a theorem that's related to sampling, we should remember some key things about sampling.\n",
    "\n",
    "<img src=\"images/sample_pop.png\" alt=\"sampling example with circled people\" width=800>\n",
    "\n",
    "Our goal when sampling is to find a representative group, from which we can infer population parameters.\n",
    "\n",
    "Remember: samples have statistics, populations have parameters.\n",
    "\n",
    "In order to do this effectively, our sample should be randomly selected and representative of our population (which sounds nice and easy, it's hard to do in practice). We are trying to minimize bias in our sample, but also we are sampling because we're trying to minimize cost as well."
   ]
  },
  {
   "cell_type": "markdown",
   "metadata": {},
   "source": [
    "### Back to our Seattle Data"
   ]
  },
  {
   "cell_type": "markdown",
   "metadata": {},
   "source": [
    "Let's take 100 samples of 50 employees each time, and see what their average hourly rate is:"
   ]
  },
  {
   "cell_type": "code",
   "execution_count": 30,
   "metadata": {},
   "outputs": [],
   "source": [
    "k = 1000 # number of samples\n",
    "n = 50 # number of employees per sample\n",
    "\n",
    "# The full for loop version:\n",
    "# sample_means = []\n",
    "# for x in range(n):\n",
    "#     sample_emps = df.sample(n=n)\n",
    "#     sample_mean = sample_emps['Hourly Rate '].mean()\n",
    "#     sample_means.append(sample_mean)\n",
    "    \n",
    "# But let's do this with list comprehension:\n",
    "sample_means = [np.mean(df.sample(n=n))[0] for x in range(k)]"
   ]
  },
  {
   "cell_type": "code",
   "execution_count": 31,
   "metadata": {
    "scrolled": true
   },
   "outputs": [
    {
     "data": {
      "text/plain": [
       "[51.025436,\n",
       " 46.4428,\n",
       " 46.302780000000006,\n",
       " 49.247640000000004,\n",
       " 46.378415999999994,\n",
       " 46.183654,\n",
       " 49.48790000000001,\n",
       " 46.23244599999999,\n",
       " 46.877698,\n",
       " 46.95936,\n",
       " 45.12253999999999,\n",
       " 46.72256,\n",
       " 46.94072,\n",
       " 50.01841399999999,\n",
       " 47.719100000000005,\n",
       " 45.38964,\n",
       " 48.08324,\n",
       " 48.702782,\n",
       " 46.694500000000005,\n",
       " 48.91549800000001,\n",
       " 42.721692000000004,\n",
       " 47.73238400000001,\n",
       " 50.87031999999999,\n",
       " 47.67822999999999,\n",
       " 46.32454,\n",
       " 50.4687,\n",
       " 49.65080000000001,\n",
       " 47.96409999999999,\n",
       " 48.50418,\n",
       " 47.479972000000004,\n",
       " 50.75686399999999,\n",
       " 48.14489,\n",
       " 47.43965399999999,\n",
       " 49.462672000000005,\n",
       " 50.351220000000005,\n",
       " 43.43332,\n",
       " 50.892835999999996,\n",
       " 44.06286399999999,\n",
       " 45.93728999999999,\n",
       " 49.62759799999999,\n",
       " 46.302970000000016,\n",
       " 46.905519999999996,\n",
       " 45.81724,\n",
       " 47.02398800000001,\n",
       " 50.745332000000005,\n",
       " 50.382943999999995,\n",
       " 46.11240000000001,\n",
       " 47.75982200000001,\n",
       " 44.044619999999995,\n",
       " 46.790291999999994,\n",
       " 47.79663199999999,\n",
       " 51.419114,\n",
       " 48.046980000000005,\n",
       " 49.880066,\n",
       " 50.62200000000001,\n",
       " 45.710208,\n",
       " 49.115918,\n",
       " 46.35504,\n",
       " 50.023348000000006,\n",
       " 49.41234,\n",
       " 49.13188000000001,\n",
       " 50.79952399999999,\n",
       " 48.306002,\n",
       " 46.320102,\n",
       " 46.30870000000001,\n",
       " 48.813847999999986,\n",
       " 46.17942,\n",
       " 49.513916,\n",
       " 54.23198,\n",
       " 45.321419999999996,\n",
       " 45.92054,\n",
       " 47.503119999999996,\n",
       " 49.1768,\n",
       " 44.95138,\n",
       " 47.050459999999994,\n",
       " 45.609199999999994,\n",
       " 46.420954,\n",
       " 50.147510000000004,\n",
       " 46.889385999999995,\n",
       " 51.1421,\n",
       " 43.87592600000001,\n",
       " 43.82056000000001,\n",
       " 51.15427999999999,\n",
       " 47.24651999999999,\n",
       " 47.123160000000006,\n",
       " 46.665248,\n",
       " 46.282162,\n",
       " 51.504709999999996,\n",
       " 48.96236,\n",
       " 47.412699999999994,\n",
       " 46.1467,\n",
       " 51.632104,\n",
       " 46.333432,\n",
       " 46.63619,\n",
       " 49.119964,\n",
       " 44.836988,\n",
       " 45.72741800000001,\n",
       " 46.664952,\n",
       " 43.024820000000005,\n",
       " 45.29934,\n",
       " 47.092704000000005,\n",
       " 52.462320000000005,\n",
       " 47.85458,\n",
       " 48.5132,\n",
       " 50.73984200000001,\n",
       " 50.265192,\n",
       " 50.55329599999999,\n",
       " 45.370034000000004,\n",
       " 48.37812400000001,\n",
       " 52.496566,\n",
       " 43.133545999999996,\n",
       " 45.533531999999994,\n",
       " 46.608304000000004,\n",
       " 49.229969999999994,\n",
       " 49.05259200000001,\n",
       " 45.04478,\n",
       " 49.561906,\n",
       " 43.57511600000001,\n",
       " 49.32107400000001,\n",
       " 44.05262999999999,\n",
       " 51.844968,\n",
       " 47.07046,\n",
       " 44.015676000000006,\n",
       " 43.957056,\n",
       " 47.826462,\n",
       " 46.00694000000001,\n",
       " 51.692456,\n",
       " 44.89272,\n",
       " 46.068008,\n",
       " 47.735645999999996,\n",
       " 47.902601999999995,\n",
       " 45.94623599999999,\n",
       " 51.61277,\n",
       " 49.067136,\n",
       " 46.06828,\n",
       " 49.915898,\n",
       " 46.586712,\n",
       " 45.42679999999999,\n",
       " 48.95965999999999,\n",
       " 48.28804,\n",
       " 50.52295399999999,\n",
       " 44.177336000000004,\n",
       " 48.65478,\n",
       " 51.39499000000001,\n",
       " 50.44456,\n",
       " 47.889222,\n",
       " 46.30876,\n",
       " 45.964710000000004,\n",
       " 47.87893,\n",
       " 48.396840000000005,\n",
       " 49.23624000000001,\n",
       " 42.25043999999999,\n",
       " 46.6325,\n",
       " 45.15118000000001,\n",
       " 47.486000000000004,\n",
       " 49.153892,\n",
       " 48.2588,\n",
       " 46.71113799999999,\n",
       " 49.82535999999999,\n",
       " 45.657716,\n",
       " 45.970245999999996,\n",
       " 49.102208,\n",
       " 46.681518,\n",
       " 49.680732,\n",
       " 51.75669400000001,\n",
       " 47.780879999999996,\n",
       " 48.340986,\n",
       " 48.05119999999999,\n",
       " 49.865,\n",
       " 47.19664600000001,\n",
       " 47.65768,\n",
       " 48.84267400000001,\n",
       " 49.005691999999996,\n",
       " 47.32284,\n",
       " 48.03932399999999,\n",
       " 47.0001,\n",
       " 49.20670200000001,\n",
       " 50.484718,\n",
       " 49.39632800000001,\n",
       " 50.42568199999999,\n",
       " 45.422295999999996,\n",
       " 47.72104000000001,\n",
       " 47.92077999999999,\n",
       " 47.13132,\n",
       " 49.64228,\n",
       " 45.51406000000001,\n",
       " 46.949,\n",
       " 50.343500000000006,\n",
       " 50.022800000000004,\n",
       " 45.37687000000001,\n",
       " 48.32935999999999,\n",
       " 47.295021999999996,\n",
       " 46.5875,\n",
       " 46.551618,\n",
       " 45.753491999999994,\n",
       " 47.565439999999995,\n",
       " 46.434569999999994,\n",
       " 47.93654000000001,\n",
       " 53.52951999999999,\n",
       " 51.833434,\n",
       " 50.28582,\n",
       " 48.31552,\n",
       " 43.25224,\n",
       " 48.002684,\n",
       " 45.097454000000006,\n",
       " 47.90828799999999,\n",
       " 48.28237000000001,\n",
       " 51.536948,\n",
       " 45.26312800000001,\n",
       " 48.126940000000005,\n",
       " 49.835178,\n",
       " 45.213648000000006,\n",
       " 41.26076,\n",
       " 45.93284,\n",
       " 50.03614200000001,\n",
       " 48.04927,\n",
       " 48.11948199999999,\n",
       " 45.12601999999999,\n",
       " 47.22026000000001,\n",
       " 44.48704,\n",
       " 44.48237,\n",
       " 45.602610000000006,\n",
       " 51.493242,\n",
       " 47.774939999999994,\n",
       " 51.2095,\n",
       " 48.045616,\n",
       " 46.06759400000001,\n",
       " 48.101800000000004,\n",
       " 43.63899000000001,\n",
       " 46.62927999999999,\n",
       " 46.062752,\n",
       " 48.078543999999994,\n",
       " 43.14550000000001,\n",
       " 50.94973,\n",
       " 51.31622400000001,\n",
       " 53.66010399999999,\n",
       " 45.68189,\n",
       " 43.76586,\n",
       " 51.98616,\n",
       " 51.593759999999996,\n",
       " 52.089715999999996,\n",
       " 45.979172,\n",
       " 51.368939999999995,\n",
       " 42.278873999999995,\n",
       " 51.48764000000001,\n",
       " 48.15406,\n",
       " 47.592204,\n",
       " 48.64054000000001,\n",
       " 50.83652000000001,\n",
       " 53.017008000000004,\n",
       " 48.61934,\n",
       " 48.757424,\n",
       " 46.813199999999995,\n",
       " 49.782864,\n",
       " 49.119832,\n",
       " 48.387220000000006,\n",
       " 45.123020000000004,\n",
       " 46.18037800000001,\n",
       " 49.487359999999995,\n",
       " 47.67649399999999,\n",
       " 47.97832000000001,\n",
       " 48.76593,\n",
       " 44.14534,\n",
       " 52.20935999999999,\n",
       " 47.12003999999999,\n",
       " 49.409504,\n",
       " 48.41781000000001,\n",
       " 51.017300000000006,\n",
       " 48.576060000000005,\n",
       " 44.470699999999994,\n",
       " 53.453300000000006,\n",
       " 49.86518800000001,\n",
       " 48.9053,\n",
       " 47.011524,\n",
       " 45.78583,\n",
       " 48.31317,\n",
       " 47.977315999999995,\n",
       " 45.76872,\n",
       " 47.81806,\n",
       " 48.31847400000001,\n",
       " 48.37906000000001,\n",
       " 48.63270000000001,\n",
       " 47.031319999999994,\n",
       " 47.18711999999999,\n",
       " 48.66732,\n",
       " 49.560412,\n",
       " 48.7957,\n",
       " 47.96827800000001,\n",
       " 47.475362000000004,\n",
       " 51.05482,\n",
       " 47.628478,\n",
       " 53.58395200000001,\n",
       " 45.946944,\n",
       " 47.346168000000006,\n",
       " 42.504624000000014,\n",
       " 45.856804000000004,\n",
       " 50.332,\n",
       " 47.44778,\n",
       " 49.09883999999999,\n",
       " 46.08026000000001,\n",
       " 46.76809199999999,\n",
       " 47.940198,\n",
       " 47.937560000000005,\n",
       " 46.253760000000014,\n",
       " 47.991468,\n",
       " 45.376535999999994,\n",
       " 48.5356,\n",
       " 44.98504,\n",
       " 48.973802,\n",
       " 48.947987999999995,\n",
       " 51.63417,\n",
       " 42.891368,\n",
       " 45.461279999999995,\n",
       " 45.46335800000001,\n",
       " 47.93527999999999,\n",
       " 44.625794,\n",
       " 52.510118000000006,\n",
       " 46.044160000000005,\n",
       " 50.654104,\n",
       " 46.23648,\n",
       " 45.689828,\n",
       " 49.017999999999994,\n",
       " 41.967439999999996,\n",
       " 48.791552,\n",
       " 47.560572,\n",
       " 49.038779999999996,\n",
       " 50.77548199999999,\n",
       " 47.763031999999995,\n",
       " 46.28264,\n",
       " 46.779875999999994,\n",
       " 47.83786800000001,\n",
       " 51.295274,\n",
       " 50.056296,\n",
       " 46.8708,\n",
       " 45.406774,\n",
       " 47.422019999999996,\n",
       " 48.19826,\n",
       " 47.22454399999999,\n",
       " 49.287020000000005,\n",
       " 47.963159999999995,\n",
       " 41.714926,\n",
       " 47.73936599999999,\n",
       " 53.81410000000001,\n",
       " 46.760411999999995,\n",
       " 48.57513999999999,\n",
       " 43.794026,\n",
       " 47.56822200000001,\n",
       " 49.700222,\n",
       " 44.312718000000004,\n",
       " 46.169812,\n",
       " 47.94981,\n",
       " 45.874436,\n",
       " 45.647766000000004,\n",
       " 47.146696,\n",
       " 48.144078,\n",
       " 49.763960000000004,\n",
       " 46.56715199999999,\n",
       " 46.01968,\n",
       " 47.99320000000001,\n",
       " 47.742501999999995,\n",
       " 43.9613,\n",
       " 46.305688,\n",
       " 47.509146,\n",
       " 51.785844,\n",
       " 48.378297999999994,\n",
       " 45.530412,\n",
       " 46.56419199999999,\n",
       " 45.985060000000004,\n",
       " 47.8866,\n",
       " 49.32498,\n",
       " 47.500308000000004,\n",
       " 51.31336000000001,\n",
       " 50.744381999999995,\n",
       " 47.092576,\n",
       " 44.657012,\n",
       " 50.063179999999996,\n",
       " 45.864712,\n",
       " 48.41383,\n",
       " 47.847263999999996,\n",
       " 45.46072,\n",
       " 48.831022000000004,\n",
       " 44.367934000000005,\n",
       " 46.216300000000004,\n",
       " 48.038476,\n",
       " 47.56687,\n",
       " 48.84063599999999,\n",
       " 48.64039999999999,\n",
       " 51.69535599999999,\n",
       " 50.360574,\n",
       " 47.59098,\n",
       " 46.67921200000001,\n",
       " 48.16597999999999,\n",
       " 48.10884,\n",
       " 47.7201,\n",
       " 48.91573800000001,\n",
       " 51.246708,\n",
       " 45.069396000000005,\n",
       " 48.36529599999999,\n",
       " 48.267174,\n",
       " 49.229658,\n",
       " 48.54641999999999,\n",
       " 52.76690000000001,\n",
       " 50.74336,\n",
       " 49.615836,\n",
       " 49.27931599999999,\n",
       " 49.4042,\n",
       " 48.799762,\n",
       " 50.781851999999986,\n",
       " 45.998858,\n",
       " 43.655512,\n",
       " 47.165200000000006,\n",
       " 46.246884,\n",
       " 49.040254,\n",
       " 51.305200000000006,\n",
       " 44.629991999999994,\n",
       " 45.656259999999996,\n",
       " 47.893308000000005,\n",
       " 45.59504,\n",
       " 48.04476400000001,\n",
       " 50.17864,\n",
       " 49.582620000000006,\n",
       " 44.814052000000004,\n",
       " 49.42951000000001,\n",
       " 45.70022000000001,\n",
       " 47.422861999999995,\n",
       " 48.719326,\n",
       " 47.455929999999995,\n",
       " 46.201716,\n",
       " 47.355928000000006,\n",
       " 46.60808,\n",
       " 47.032,\n",
       " 49.80879399999999,\n",
       " 45.837034,\n",
       " 47.357514,\n",
       " 50.22718,\n",
       " 51.704299999999996,\n",
       " 48.43324,\n",
       " 43.100364,\n",
       " 47.896100000000004,\n",
       " 47.96614,\n",
       " 53.519580000000005,\n",
       " 49.06582600000001,\n",
       " 45.18544,\n",
       " 46.198899999999995,\n",
       " 48.105736,\n",
       " 47.306726000000005,\n",
       " 47.050019999999996,\n",
       " 51.091516,\n",
       " 50.08198200000001,\n",
       " 47.15478000000001,\n",
       " 48.49026599999999,\n",
       " 42.46366000000001,\n",
       " 52.893387999999995,\n",
       " 47.760108,\n",
       " 48.20696,\n",
       " 46.778999999999996,\n",
       " 49.683974000000006,\n",
       " 49.155120000000004,\n",
       " 51.896983999999996,\n",
       " 44.757760000000005,\n",
       " 47.881181999999995,\n",
       " 47.55322000000001,\n",
       " 47.11025000000001,\n",
       " 49.96378999999999,\n",
       " 49.270388000000004,\n",
       " 46.626066,\n",
       " 46.272628000000005,\n",
       " 46.106779999999986,\n",
       " 40.270582,\n",
       " 48.92651999999999,\n",
       " 45.994879999999995,\n",
       " 47.08671999999999,\n",
       " 46.471036000000005,\n",
       " 46.882892,\n",
       " 50.661016,\n",
       " 50.127331999999996,\n",
       " 48.069840000000006,\n",
       " 46.18372,\n",
       " 50.524024,\n",
       " 46.216226000000006,\n",
       " 46.275811999999995,\n",
       " 47.46699999999999,\n",
       " 44.811355999999996,\n",
       " 47.156982000000006,\n",
       " 46.35757600000001,\n",
       " 49.957406,\n",
       " 47.44033799999999,\n",
       " 51.66744799999999,\n",
       " 46.90794000000001,\n",
       " 52.719222,\n",
       " 42.972882,\n",
       " 47.73226,\n",
       " 45.937360000000005,\n",
       " 49.75552599999999,\n",
       " 51.79045799999999,\n",
       " 52.380520000000004,\n",
       " 48.195209999999996,\n",
       " 46.187384,\n",
       " 45.33630000000001,\n",
       " 45.2741,\n",
       " 43.906688,\n",
       " 47.341100000000004,\n",
       " 43.60542600000001,\n",
       " 47.391604,\n",
       " 44.91826000000001,\n",
       " 45.311896000000004,\n",
       " 43.653679999999994,\n",
       " 47.619304000000014,\n",
       " 49.026619999999994,\n",
       " 50.186077999999995,\n",
       " 51.661925999999994,\n",
       " 49.699600000000004,\n",
       " 49.451544000000005,\n",
       " 47.57269799999999,\n",
       " 47.067226,\n",
       " 49.841103999999994,\n",
       " 48.670393999999995,\n",
       " 49.016656000000005,\n",
       " 47.60406,\n",
       " 50.155446000000005,\n",
       " 48.645508,\n",
       " 49.75356000000001,\n",
       " 48.360991999999996,\n",
       " 47.084759999999996,\n",
       " 48.65113,\n",
       " 48.51414,\n",
       " 45.639844,\n",
       " 51.169366,\n",
       " 54.36203799999999,\n",
       " 54.712939999999996,\n",
       " 50.112896,\n",
       " 47.13393999999998,\n",
       " 43.180200000000006,\n",
       " 47.71096000000001,\n",
       " 47.734035999999996,\n",
       " 50.47047,\n",
       " 46.018640000000005,\n",
       " 46.72054,\n",
       " 51.05603599999999,\n",
       " 53.800776000000006,\n",
       " 54.241446,\n",
       " 49.998175999999994,\n",
       " 46.687132,\n",
       " 43.53101800000001,\n",
       " 48.872260000000004,\n",
       " 46.798680000000004,\n",
       " 48.28813999999999,\n",
       " 51.502474,\n",
       " 49.849650000000004,\n",
       " 47.18664199999999,\n",
       " 46.660146000000005,\n",
       " 47.165735999999995,\n",
       " 47.75226,\n",
       " 49.78078000000001,\n",
       " 44.29454,\n",
       " 47.837875999999994,\n",
       " 51.836466,\n",
       " 54.245357999999996,\n",
       " 52.59465600000001,\n",
       " 47.055618,\n",
       " 52.000899999999994,\n",
       " 47.867659999999994,\n",
       " 47.357118,\n",
       " 51.49507,\n",
       " 47.6101,\n",
       " 48.052088,\n",
       " 47.19088000000001,\n",
       " 45.61722,\n",
       " 47.383219999999994,\n",
       " 50.67294,\n",
       " 44.929939999999995,\n",
       " 50.318369999999994,\n",
       " 45.883904,\n",
       " 46.0146,\n",
       " 48.74508,\n",
       " 44.76874000000001,\n",
       " 47.375488,\n",
       " 45.82308,\n",
       " 47.649559999999994,\n",
       " 47.78488800000001,\n",
       " 48.95662399999999,\n",
       " 45.75904,\n",
       " 48.763980000000004,\n",
       " 45.67694,\n",
       " 48.486194000000005,\n",
       " 48.0214,\n",
       " 51.064226,\n",
       " 47.472236,\n",
       " 47.96708,\n",
       " 48.8857,\n",
       " 45.91798000000001,\n",
       " 45.73020000000001,\n",
       " 48.302896000000004,\n",
       " 48.271254,\n",
       " 50.030644,\n",
       " 44.43848,\n",
       " 46.73151999999999,\n",
       " 44.055020000000006,\n",
       " 45.955119999999994,\n",
       " 47.77318,\n",
       " 50.03901199999999,\n",
       " 46.917691999999995,\n",
       " 46.766516,\n",
       " 50.174724,\n",
       " 42.978334000000004,\n",
       " 48.68863999999999,\n",
       " 45.39872599999999,\n",
       " 46.34796,\n",
       " 48.254211999999995,\n",
       " 45.26485399999999,\n",
       " 48.26514,\n",
       " 48.273275999999996,\n",
       " 50.26474,\n",
       " 49.66045999999999,\n",
       " 51.57235599999999,\n",
       " 55.547124000000004,\n",
       " 48.73962,\n",
       " 48.84716,\n",
       " 49.688012,\n",
       " 45.457344000000006,\n",
       " 49.55396399999999,\n",
       " 49.74878200000001,\n",
       " 46.874678,\n",
       " 47.44932,\n",
       " 44.45639399999999,\n",
       " 50.38579200000001,\n",
       " 45.61704999999999,\n",
       " 46.848358000000005,\n",
       " 48.64150000000001,\n",
       " 51.20304000000001,\n",
       " 47.969694,\n",
       " 45.17728,\n",
       " 47.700756,\n",
       " 47.30154199999999,\n",
       " 50.935122,\n",
       " 45.03231199999999,\n",
       " 52.083679999999994,\n",
       " 47.93256,\n",
       " 48.82401,\n",
       " 45.994040000000005,\n",
       " 50.303273999999995,\n",
       " 45.67124,\n",
       " 45.40755,\n",
       " 47.108059999999995,\n",
       " 47.46000799999999,\n",
       " 50.926325999999996,\n",
       " 46.76617,\n",
       " 53.79362000000001,\n",
       " 49.656485999999994,\n",
       " 49.36323999999999,\n",
       " 46.42892,\n",
       " 47.089236,\n",
       " 49.43793200000001,\n",
       " 45.821225999999996,\n",
       " 47.304219999999994,\n",
       " 48.67108,\n",
       " 45.474714000000006,\n",
       " 47.6787,\n",
       " 47.76468,\n",
       " 46.34988200000001,\n",
       " 50.23584000000001,\n",
       " 46.879866,\n",
       " 48.908408,\n",
       " 49.134944000000004,\n",
       " 49.176266000000005,\n",
       " 45.548086000000005,\n",
       " 48.31410000000001,\n",
       " 48.87577999999999,\n",
       " 47.34434,\n",
       " 48.308707999999996,\n",
       " 46.29843999999999,\n",
       " 42.45962,\n",
       " 48.78958000000001,\n",
       " 50.139598,\n",
       " 46.406328,\n",
       " 48.61693999999999,\n",
       " 49.477560000000004,\n",
       " 46.26912,\n",
       " 50.401448,\n",
       " 48.17137399999999,\n",
       " 45.59116000000001,\n",
       " 50.45535200000001,\n",
       " 48.58386,\n",
       " 47.27307999999999,\n",
       " 48.68045000000001,\n",
       " 47.49160800000001,\n",
       " 45.131498,\n",
       " 49.270968,\n",
       " 49.492348,\n",
       " 47.9683,\n",
       " 42.495920000000005,\n",
       " 48.16088999999999,\n",
       " 44.37732000000001,\n",
       " 47.347136,\n",
       " 49.50534400000001,\n",
       " 41.97948,\n",
       " 50.485014,\n",
       " 47.485879999999995,\n",
       " 46.55302,\n",
       " 47.95879999999999,\n",
       " 43.99649800000001,\n",
       " 45.056962000000006,\n",
       " 48.35387999999999,\n",
       " 47.29176,\n",
       " 44.46860199999999,\n",
       " 44.697359999999996,\n",
       " 45.69157599999998,\n",
       " 47.19580400000001,\n",
       " 46.23386000000001,\n",
       " 49.658339999999995,\n",
       " 44.780712000000015,\n",
       " 47.868855999999994,\n",
       " 48.49980800000001,\n",
       " 47.490387999999996,\n",
       " 49.45965999999999,\n",
       " 47.483328,\n",
       " 45.91644,\n",
       " 45.436589999999995,\n",
       " 50.97415000000001,\n",
       " 49.885200000000005,\n",
       " 49.60318,\n",
       " 45.719968,\n",
       " 45.862753999999995,\n",
       " 50.96136200000001,\n",
       " 49.68763400000001,\n",
       " 45.715363999999994,\n",
       " 46.22131,\n",
       " 44.40554399999999,\n",
       " 49.298680000000004,\n",
       " 49.17946,\n",
       " 48.442144,\n",
       " 44.835119999999996,\n",
       " 46.88139999999999,\n",
       " 49.80351,\n",
       " 46.72692,\n",
       " 46.569244,\n",
       " 48.24802400000001,\n",
       " 50.880748000000004,\n",
       " 51.967713999999994,\n",
       " 47.240442,\n",
       " 48.963269999999994,\n",
       " 48.146454000000006,\n",
       " 50.783820000000006,\n",
       " 52.94072,\n",
       " 47.319669999999995,\n",
       " 45.964102000000004,\n",
       " 49.975964000000005,\n",
       " 48.384252,\n",
       " 49.476828,\n",
       " 48.550922,\n",
       " 46.645418,\n",
       " 47.452704,\n",
       " 46.48062,\n",
       " 42.38496,\n",
       " 46.323139999999995,\n",
       " 47.419776,\n",
       " 50.71834,\n",
       " 51.1206,\n",
       " 46.553180000000005,\n",
       " 48.981936000000005,\n",
       " 46.859476000000015,\n",
       " 48.74707,\n",
       " 51.78344200000001,\n",
       " 48.93907,\n",
       " 49.81801199999999,\n",
       " 47.57859999999999,\n",
       " 50.587092000000005,\n",
       " 50.99287999999999,\n",
       " 45.645920000000004,\n",
       " 47.985886,\n",
       " 43.96874200000001,\n",
       " 49.850522,\n",
       " 48.02102,\n",
       " 48.04300000000001,\n",
       " 53.189154,\n",
       " 42.922552,\n",
       " 48.661691999999995,\n",
       " 48.857256,\n",
       " 50.919320000000006,\n",
       " 48.23703800000001,\n",
       " 50.706182,\n",
       " 48.411618,\n",
       " 48.128820000000005,\n",
       " 46.24542,\n",
       " 46.435346,\n",
       " 49.54366,\n",
       " 48.340270000000004,\n",
       " 46.72656,\n",
       " 47.369476000000006,\n",
       " 43.17961999999999,\n",
       " 47.33623599999999,\n",
       " 48.52241,\n",
       " 49.04913199999999,\n",
       " 45.158714,\n",
       " 45.550819999999995,\n",
       " 47.922140000000006,\n",
       " 47.11164000000001,\n",
       " 44.990260000000006,\n",
       " 50.848836,\n",
       " 48.639496,\n",
       " 46.755418,\n",
       " 48.59897999999999,\n",
       " 46.73618,\n",
       " 47.94125999999999,\n",
       " 48.389708,\n",
       " 47.420419999999986,\n",
       " 47.849948,\n",
       " 44.39984,\n",
       " 49.26007,\n",
       " 41.286300000000004,\n",
       " 48.88669,\n",
       " 45.36815999999999,\n",
       " 47.72535,\n",
       " 49.39708,\n",
       " 48.07422,\n",
       " 46.69198,\n",
       " 47.22261599999999,\n",
       " 47.126535999999994,\n",
       " 48.940582000000006,\n",
       " 47.356100000000005,\n",
       " 44.44454800000001,\n",
       " 47.340720000000005,\n",
       " 45.43625999999999,\n",
       " 45.18784000000001,\n",
       " 49.313228,\n",
       " 51.388934,\n",
       " 44.63423999999999,\n",
       " 49.13074,\n",
       " 47.04282,\n",
       " 46.68956599999999,\n",
       " 42.36338000000001,\n",
       " 43.874199999999995,\n",
       " 49.046524,\n",
       " 49.310627999999994,\n",
       " 43.93457,\n",
       " 49.90536,\n",
       " 49.465008000000005,\n",
       " 48.584801999999996,\n",
       " 49.38372800000001,\n",
       " 51.59874,\n",
       " 45.162907999999995,\n",
       " 48.078958000000014,\n",
       " 40.771339999999995,\n",
       " 49.76307,\n",
       " 45.02118,\n",
       " 47.314219999999985,\n",
       " 44.476409999999994,\n",
       " 46.553180000000005,\n",
       " 45.823406,\n",
       " 47.44133799999999,\n",
       " 48.183060000000005,\n",
       " 50.329184000000005,\n",
       " 48.246494000000006,\n",
       " 48.798404,\n",
       " 45.702920000000006,\n",
       " 47.45872,\n",
       " 50.29432200000001,\n",
       " 44.969587999999995,\n",
       " 46.67440799999999,\n",
       " 47.09046,\n",
       " 47.404520000000005,\n",
       " 46.735014,\n",
       " 47.45783200000001,\n",
       " 47.41956999999999,\n",
       " 51.433795999999994,\n",
       " 51.907520000000005,\n",
       " 49.91742,\n",
       " 42.357454,\n",
       " 48.62520000000001,\n",
       " 43.98854,\n",
       " 47.78624,\n",
       " 44.51818399999999,\n",
       " 51.747192000000005,\n",
       " 45.05255399999999,\n",
       " 52.70112,\n",
       " 51.66322400000001,\n",
       " 47.42901,\n",
       " 46.877930000000006,\n",
       " 46.473369999999996,\n",
       " 47.21188,\n",
       " 49.46585,\n",
       " 49.547734,\n",
       " 45.400766000000004,\n",
       " 46.844848,\n",
       " 48.04777,\n",
       " 48.43526,\n",
       " 45.135624,\n",
       " 47.20106,\n",
       " 43.44938,\n",
       " 49.878552000000006,\n",
       " 49.27736999999999,\n",
       " 45.86784800000001,\n",
       " 45.397448,\n",
       " 40.967074,\n",
       " 49.139478,\n",
       " 49.822742000000005,\n",
       " 49.610282,\n",
       " 51.567643999999994,\n",
       " 46.30527599999999,\n",
       " 49.219286000000004,\n",
       " 48.143694,\n",
       " 48.213319999999996,\n",
       " 47.672560000000004,\n",
       " 45.651874,\n",
       " 45.21058,\n",
       " 47.333040000000004,\n",
       " 48.95870000000001,\n",
       " 46.995177999999996,\n",
       " 47.566074,\n",
       " 49.551528,\n",
       " 47.35041999999999,\n",
       " 46.704899999999995,\n",
       " 48.747938,\n",
       " 45.939608,\n",
       " 50.61156000000001,\n",
       " 49.352578,\n",
       " 47.608988,\n",
       " 47.29772,\n",
       " 47.460212,\n",
       " 46.315965999999996,\n",
       " 49.27644599999999,\n",
       " 48.379166,\n",
       " 42.54446,\n",
       " 48.12183999999999,\n",
       " 41.927941999999994,\n",
       " 51.834540000000004,\n",
       " 49.258008,\n",
       " 50.738236,\n",
       " 47.262354,\n",
       " 49.320718,\n",
       " 46.682945999999994,\n",
       " 45.3496,\n",
       " 48.954646000000004,\n",
       " 48.81422,\n",
       " 46.771080000000005,\n",
       " 43.911254,\n",
       " 48.084776000000005,\n",
       " 48.017219999999995,\n",
       " 47.451615999999994,\n",
       " 49.313579999999995,\n",
       " 51.345181999999994,\n",
       " 45.272920000000006,\n",
       " 50.98785999999999,\n",
       " 49.724638000000006,\n",
       " 45.889708,\n",
       " 43.98432,\n",
       " 49.85190000000001,\n",
       " 48.281148,\n",
       " 45.843393999999996,\n",
       " 45.07954599999999,\n",
       " 49.148275999999996,\n",
       " 48.352512000000004,\n",
       " 50.68342,\n",
       " 46.59686799999999,\n",
       " 52.199684,\n",
       " 48.572064,\n",
       " 48.49454,\n",
       " 45.659164000000004,\n",
       " 45.25332,\n",
       " 47.968239999999994,\n",
       " 52.29882799999999,\n",
       " 45.15354,\n",
       " 47.778400000000005,\n",
       " 46.154800000000016,\n",
       " 47.74222399999999,\n",
       " 48.82317200000001,\n",
       " 46.60138,\n",
       " 49.247724,\n",
       " 49.11481,\n",
       " 53.680582,\n",
       " 50.701713999999996,\n",
       " 46.51356199999999,\n",
       " 45.99187800000001,\n",
       " 47.5454,\n",
       " 49.85999400000001,\n",
       " 47.910844,\n",
       " 48.301498,\n",
       " 46.37329400000001,\n",
       " 44.7346,\n",
       " 48.62265,\n",
       " 50.85866999999999,\n",
       " 42.767379999999996,\n",
       " 47.645120000000006,\n",
       " 53.10907399999999,\n",
       " 47.08464,\n",
       " 45.52282,\n",
       " 45.15294,\n",
       " 44.36256,\n",
       " 44.587120000000006,\n",
       " 48.863366,\n",
       " 46.05763199999999,\n",
       " 52.029340000000005,\n",
       " 48.14152,\n",
       " 52.41391200000001,\n",
       " 49.91368000000001,\n",
       " 48.635239999999996,\n",
       " 49.089839999999995,\n",
       " 47.20277799999999,\n",
       " 44.2638,\n",
       " 44.8992]"
      ]
     },
     "execution_count": 31,
     "metadata": {},
     "output_type": "execute_result"
    }
   ],
   "source": [
    "sample_means"
   ]
  },
  {
   "cell_type": "code",
   "execution_count": 32,
   "metadata": {
    "scrolled": true
   },
   "outputs": [
    {
     "data": {
      "image/png": "[encoded data removed]",
      "text/plain": [
       "<Figure size 576x432 with 1 Axes>"
      ]
     },
     "metadata": {
      "needs_background": "light"
     },
     "output_type": "display_data"
    }
   ],
   "source": [
    "# Plotting the distribution of our samples, plus our pop and sample means\n",
    "pop_mean = df['HourlyRate'].mean()\n",
    "samp_mean = np.mean(sample_means)\n",
    "\n",
    "plt.figure(figsize=(8,6))\n",
    "\n",
    "sns.histplot(sample_means)\n",
    "\n",
    "plt.vlines(pop_mean, ymin=0, ymax=25, color='r', linestyle=':',\n",
    "           label=f'Population Mean: {pop_mean:.2f}')\n",
    "plt.vlines(samp_mean, ymin=0, ymax=25, color='g', linestyle=':',\n",
    "           label=f'Mean of {k} Samples: {samp_mean:.2f}')\n",
    "\n",
    "plt.legend();"
   ]
  },
  {
   "cell_type": "code",
   "execution_count": 33,
   "metadata": {},
   "outputs": [
    {
     "data": {
      "image/png": "[encoded data removed]",
      "text/plain": [
       "<Figure size 432x288 with 1 Axes>"
      ]
     },
     "metadata": {
      "needs_background": "light"
     },
     "output_type": "display_data"
    }
   ],
   "source": [
    "sns.kdeplot(df['HourlyRate']);"
   ]
  },
  {
   "cell_type": "markdown",
   "metadata": {},
   "source": [
    "Discuss:\n",
    "\n",
    "- CLT at play, distribution of sample means is mostly normal (more than original)\n"
   ]
  },
  {
   "cell_type": "markdown",
   "metadata": {
    "heading_collapsed": true
   },
   "source": [
    "-----\n",
    "\n",
    "\n",
    "# Level Up: Other Distributions"
   ]
  },
  {
   "cell_type": "markdown",
   "metadata": {
    "hidden": true
   },
   "source": [
    "The world is full of distributions to explore! See some other less-common ones below:"
   ]
  },
  {
   "cell_type": "markdown",
   "metadata": {
    "hidden": true
   },
   "source": [
    "![](images/distributions.png)"
   ]
  },
  {
   "cell_type": "markdown",
   "metadata": {
    "hidden": true
   },
   "source": [
    "Now that we know a few methods in visualizing distributions 📊👀, we can start looking at different types of distributions.\n",
    "\n",
    "We can tell a lot about a distribution shape such as taking a guess of the mechanism that it took to generate the data."
   ]
  },
  {
   "cell_type": "markdown",
   "metadata": {},
   "source": [
    "## Level Up: SKLearn's Standard Scaler\n",
    "\n",
    "Soon we'll be using a pre-built function to scale our data: https://scikit-learn.org/stable/modules/generated/sklearn.preprocessing.StandardScaler.html\n",
    "\n",
    "Let's go ahead and peek at our first `sklearn` class!"
   ]
  },
  {
   "cell_type": "code",
   "execution_count": null,
   "metadata": {},
   "outputs": [],
   "source": [
    "# Importing StandardScaler from the preprocessing module\n",
    "from sklearn.preprocessing import StandardScaler\n",
    "\n",
    "# Need to instantiate our scaler\n",
    "scaler = StandardScaler()\n",
    "\n",
    "# Fitting our scaler (note how we need to make the column into a dataframe)\n",
    "scaler.fit(df[['HourlyRate']])\n",
    "\n",
    "# Grabbing the transformed values out as scaled_rate\n",
    "scaled_rate = scaler.transform(df[['HourlyRate']])"
   ]
  },
  {
   "cell_type": "code",
   "execution_count": null,
   "metadata": {},
   "outputs": [],
   "source": [
    "scaler.fit_transform(df[['HourlyRate']])"
   ]
  },
  {
   "cell_type": "code",
   "execution_count": null,
   "metadata": {},
   "outputs": [],
   "source": [
    "scaler = StandardScaler()"
   ]
  },
  {
   "cell_type": "code",
   "execution_count": null,
   "metadata": {},
   "outputs": [],
   "source": [
    "type(scaler)"
   ]
  },
  {
   "cell_type": "code",
   "execution_count": null,
   "metadata": {},
   "outputs": [],
   "source": [
    "scaler.fit(df[['HourlyRate']])"
   ]
  },
  {
   "cell_type": "code",
   "execution_count": null,
   "metadata": {},
   "outputs": [],
   "source": [
    "df['HourlyRate'].mean()"
   ]
  },
  {
   "cell_type": "code",
   "execution_count": null,
   "metadata": {},
   "outputs": [],
   "source": [
    "scaler.mean_"
   ]
  },
  {
   "cell_type": "code",
   "execution_count": null,
   "metadata": {},
   "outputs": [],
   "source": [
    "scaler.scale_"
   ]
  },
  {
   "cell_type": "code",
   "execution_count": null,
   "metadata": {},
   "outputs": [],
   "source": [
    "scaler.transform(df[['HourlyRate']])"
   ]
  },
  {
   "cell_type": "code",
   "execution_count": null,
   "metadata": {
    "scrolled": false
   },
   "outputs": [],
   "source": [
    "# Plot and compare results\n",
    "fig, (ax1, ax2, ax3) = plt.subplots(nrows=3, ncols=1, figsize=(10,6), sharex=True)\n",
    "\n",
    "sns.kdeplot(df['HourlyRate'], ax=ax1, label='Without Scaling')\n",
    "ax1.legend()\n",
    "\n",
    "sns.kdeplot(standardized_rate, ax=ax2, label='Manual Scaling')\n",
    "ax2.legend()\n",
    "\n",
    "sns.kdeplot(scaled_rate[:,0], ax=ax3, label='SKLearn Standard Scaling')\n",
    "ax3.legend()\n",
    "\n",
    "plt.show()"
   ]
  },
  {
   "cell_type": "code",
   "execution_count": null,
   "metadata": {},
   "outputs": [],
   "source": [
    "heart_df = pd.read_csv('../../Phase1/Lectures/data/heart.csv')"
   ]
  },
  {
   "cell_type": "code",
   "execution_count": null,
   "metadata": {},
   "outputs": [],
   "source": [
    "heart_df"
   ]
  },
  {
   "cell_type": "code",
   "execution_count": null,
   "metadata": {},
   "outputs": [],
   "source": [
    "scaler2 = StandardScaler()"
   ]
  },
  {
   "cell_type": "code",
   "execution_count": null,
   "metadata": {},
   "outputs": [],
   "source": [
    "scaler2.fit(heart_df)"
   ]
  },
  {
   "cell_type": "code",
   "execution_count": null,
   "metadata": {},
   "outputs": [],
   "source": [
    "scaler2.mean_"
   ]
  },
  {
   "cell_type": "code",
   "execution_count": null,
   "metadata": {},
   "outputs": [],
   "source": [
    "scaler2.transform(heart_df)"
   ]
  },
  {
   "cell_type": "code",
   "execution_count": null,
   "metadata": {},
   "outputs": [],
   "source": [
    "pd.DataFrame(scaler2.transform(heart_df), columns=heart_df.columns)"
   ]
  }
 ],
 "metadata": {
  "kernelspec": {
   "display_name": "Python 3",
   "language": "python",
   "name": "python3"
  },
  "language_info": {
   "codemirror_mode": {
    "name": "ipython",
    "version": 3
   },
   "file_extension": ".py",
   "mimetype": "text/x-python",
   "name": "python",
   "nbconvert_exporter": "python",
   "pygments_lexer": "ipython3",
   "version": "3.8.5"
  },
  "toc": {
   "base_numbering": 1,
   "nav_menu": {},
   "number_sections": true,
   "sideBar": true,
   "skip_h1_title": false,
   "title_cell": "Table of Contents",
   "title_sidebar": "TOC",
   "toc_cell": true,
   "toc_position": {
    "height": "calc(100% - 180px)",
    "left": "10px",
    "top": "150px",
    "width": "380.25px"
   },
   "toc_section_display": true,
   "toc_window_display": true
  }
 },
 "nbformat": 4,
 "nbformat_minor": 4
}
