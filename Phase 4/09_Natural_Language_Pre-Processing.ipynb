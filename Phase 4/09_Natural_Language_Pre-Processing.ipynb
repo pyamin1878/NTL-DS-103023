{
 "cells": [
  {
   "cell_type": "markdown",
   "metadata": {},
   "source": [
    "# Natural Language Pre-Processing"
   ]
  },
  {
   "cell_type": "code",
   "execution_count": null,
   "metadata": {},
   "outputs": [],
   "source": [
    "# Use one of these to install nltk if needed\n",
    "# !pip install nltk\n",
    "# !conda install -c anaconda nltk"
   ]
  },
  {
   "cell_type": "code",
   "execution_count": 1,
   "metadata": {
    "scrolled": true
   },
   "outputs": [],
   "source": [
    "%load_ext autoreload\n",
    "%autoreload 2\n",
    "\n",
    "import os\n",
    "import sys\n",
    "module_path = os.path.abspath(os.path.join(os.pardir, os.pardir))\n",
    "if module_path not in sys.path:\n",
    "    sys.path.append(module_path)\n",
    "    \n",
    "import pandas as pd\n",
    "import nltk\n",
    "from nltk.probability import FreqDist\n",
    "from nltk.corpus import stopwords\n",
    "from nltk.tokenize import regexp_tokenize, word_tokenize, RegexpTokenizer\n",
    "import matplotlib.pyplot as plt\n",
    "import string\n",
    "import re"
   ]
  },
  {
   "cell_type": "code",
   "execution_count": 2,
   "metadata": {},
   "outputs": [
    {
     "name": "stderr",
     "output_type": "stream",
     "text": [
      "[nltk_data] Downloading package stopwords to\n",
      "[nltk_data]     /home/dreampy/nltk_data...\n",
      "[nltk_data]   Package stopwords is already up-to-date!\n"
     ]
    },
    {
     "data": {
      "text/plain": [
       "True"
      ]
     },
     "execution_count": 2,
     "metadata": {},
     "output_type": "execute_result"
    }
   ],
   "source": [
    "# Use this to download the stopwords if you haven't already - only ever needs to be run once\n",
    "\n",
    "nltk.download(\"stopwords\")"
   ]
  },
  {
   "cell_type": "markdown",
   "metadata": {},
   "source": [
    "# Learning Goals\n",
    "\n",
    "- Describe the basic concepts of NLP\n",
    "- Use pre-processing methods for NLP\n",
    "    - Tokenization\n",
    "    - Stopwords removal"
   ]
  },
  {
   "cell_type": "markdown",
   "metadata": {},
   "source": [
    "# Overview of NLP\n",
    "\n",
    "NLP allows computers to interact with text data in a structured and sensible way. In short, we will be breaking up series of texts into individual words (or groups of words), and isolating the words with **semantic value**.  We will then compare texts with similar distributions of these words, and group them together.\n",
    "\n",
    "In this section, we will discuss some steps and approaches to common text data analytic procedures. Some of the applications of natural language processing are:\n",
    "- Chatbots \n",
    "- Speech recognition and audio processing \n",
    "- Classifying documents \n",
    "\n",
    "Here is an example that uses some of the tools we use in this notebook.  \n",
    "  -[chicago_justice classifier](https://github.com/chicago-justice-project/article-tagging/blob/master/lib/notebooks/bag-of-words-count-stemmed-binary.ipynb)\n",
    "\n",
    "We will introduce you to the preprocessing steps, feature engineering, and other steps you need to take in order to format text data for machine learning tasks. \n",
    "\n",
    "We will also introduce you to [**NLTK**](https://www.nltk.org/) (Natural Language Toolkit), which will be our main tool for engaging with textual data."
   ]
  },
  {
   "cell_type": "markdown",
   "metadata": {},
   "source": [
    "<img src=\"images/nlp_process.png\" style=\"width:1000px;\">"
   ]
  },
  {
   "cell_type": "markdown",
   "metadata": {},
   "source": [
    "# Preprocessing for NLP"
   ]
  },
  {
   "cell_type": "markdown",
   "metadata": {},
   "source": [
    "The goal when pre-processing text data for NLP is to remove as many unnecessary words as possible while preserving as much semantic meaning as possible. This will improve your model performance dramatically.\n",
    "\n",
    "You can think of this sort of like dimensionality reduction. The unique words in your corpus form a **vocabulary**, and each word in your vocabulary is essentially another feature in your model. So we want to get rid of unnecessary words and consolidate words that have similar meanings.\n",
    "\n",
    "We will be working with a dataset which includes both satirical** (The Onion) and real news (Reuters) articles. We refer to the entire set of articles as the **corpus**.  "
   ]
  },
  {
   "cell_type": "markdown",
   "metadata": {},
   "source": [
    "![the_onion](images/the_onion.jpeg) ![reuters](images/reuters.png)"
   ]
  },
  {
   "cell_type": "code",
   "execution_count": 3,
   "metadata": {},
   "outputs": [
    {
     "data": {
      "text/plain": [
       "(1000, 2)"
      ]
     },
     "execution_count": 3,
     "metadata": {},
     "output_type": "execute_result"
    }
   ],
   "source": [
    "corpus = pd.read_csv('data/satire_nosatire.csv')\n",
    "corpus.shape"
   ]
  },
  {
   "cell_type": "code",
   "execution_count": 4,
   "metadata": {},
   "outputs": [
    {
     "data": {
      "text/html": [
       "<div>\n",
       "<style scoped>\n",
       "    .dataframe tbody tr th:only-of-type {\n",
       "        vertical-align: middle;\n",
       "    }\n",
       "\n",
       "    .dataframe tbody tr th {\n",
       "        vertical-align: top;\n",
       "    }\n",
       "\n",
       "    .dataframe thead th {\n",
       "        text-align: right;\n",
       "    }\n",
       "</style>\n",
       "<table border=\"1\" class=\"dataframe\">\n",
       "  <thead>\n",
       "    <tr style=\"text-align: right;\">\n",
       "      <th></th>\n",
       "      <th>body</th>\n",
       "      <th>target</th>\n",
       "    </tr>\n",
       "  </thead>\n",
       "  <tbody>\n",
       "    <tr>\n",
       "      <th>995</th>\n",
       "      <td>Britain’s opposition leader Jeremy Corbyn wou...</td>\n",
       "      <td>0</td>\n",
       "    </tr>\n",
       "    <tr>\n",
       "      <th>996</th>\n",
       "      <td>Turkey will take over the fight against Islam...</td>\n",
       "      <td>0</td>\n",
       "    </tr>\n",
       "    <tr>\n",
       "      <th>997</th>\n",
       "      <td>Malaysia is seeking $7.5 billion in reparatio...</td>\n",
       "      <td>0</td>\n",
       "    </tr>\n",
       "    <tr>\n",
       "      <th>998</th>\n",
       "      <td>An Israeli court sentenced a Palestinian to 1...</td>\n",
       "      <td>0</td>\n",
       "    </tr>\n",
       "    <tr>\n",
       "      <th>999</th>\n",
       "      <td>At least 22 people have died due to landslide...</td>\n",
       "      <td>0</td>\n",
       "    </tr>\n",
       "  </tbody>\n",
       "</table>\n",
       "</div>"
      ],
      "text/plain": [
       "                                                  body  target\n",
       "995   Britain’s opposition leader Jeremy Corbyn wou...       0\n",
       "996   Turkey will take over the fight against Islam...       0\n",
       "997   Malaysia is seeking $7.5 billion in reparatio...       0\n",
       "998   An Israeli court sentenced a Palestinian to 1...       0\n",
       "999   At least 22 people have died due to landslide...       0"
      ]
     },
     "execution_count": 4,
     "metadata": {},
     "output_type": "execute_result"
    }
   ],
   "source": [
    "corpus.tail()"
   ]
  },
  {
   "cell_type": "markdown",
   "metadata": {},
   "source": [
    "Our goal is to detect satire, so our target class of 1 is associated with The Onion articles.  "
   ]
  },
  {
   "cell_type": "code",
   "execution_count": 5,
   "metadata": {},
   "outputs": [
    {
     "data": {
      "text/plain": [
       "'In recognition of the brave and altruistic Americans who risk their health and safety for the greater good, Pentagon officials announced Thursday that the U.S. military would honor the sacrifices of NFL players by wearing their jerseys throughout December. “Every week, these men are out there on the gridiron, putting their bodies on the line for our country. Having our soldiers wear these jerseys and caps is the least we can do to show our support,” said Pentagon spokesperson Robert D’Amato, who announced that all active-duty soldiers would be sporting gear from all 32 teams to raise awareness of the people who put their lives aside to preserve the American way of life. “These men leave their homes and their families and travel to cities across the country to uphold our nation’s traditions. They are battered and bruised for years, their lives often cut short while we sit back in our barracks and enjoy our freedom. Some of them are never the same after they end their service, and yet we take them for granted. Hopefully, this small gesture shows that the soldiers and officers of the U.S. military know who the true heroes really are.”'"
      ]
     },
     "execution_count": 5,
     "metadata": {},
     "output_type": "execute_result"
    }
   ],
   "source": [
    "corpus.loc[10].body"
   ]
  },
  {
   "cell_type": "code",
   "execution_count": 6,
   "metadata": {},
   "outputs": [
    {
     "data": {
      "text/plain": [
       "1"
      ]
     },
     "execution_count": 6,
     "metadata": {},
     "output_type": "execute_result"
    }
   ],
   "source": [
    "corpus.loc[10].target"
   ]
  },
  {
   "cell_type": "code",
   "execution_count": 7,
   "metadata": {},
   "outputs": [
    {
     "data": {
      "text/plain": [
       "' Indonesia will launch a renewed search effort as early as Tuesday to find the cockpit voice recorder from a Lion Air jet that crashed into the Java Sea in October, the head of its accident investigation agency said. “If the weather is good, the ship will start to depart today,” National Transporation Safety Commission (KNKT) Chief Soerjanto Tjahjono told Reuters on Tuesday. The crash, the world’s first of a Boeing Co (BA.N) 737 MAX jet and the deadliest of 2018, killed all 189 people on board. Investigators last week said they planned to use a navy ship for a fresh search for the crashed jet’s second “black box” after a 10-day effort funded by Lion Air failed to find the cockpit voice recorder (CVR). A KNKT source, speaking on condition of anonymity, told Reuters the team will have seven days using the ship KRI Spica to find the CVR, which could hold vital clues giving investigators insight into the actions of the doomed jet’s pilots. Tjahjono declined to comment on whether there was a time limit on the search. Contact with flight JT610 was lost 13 minutes after it took off on Oct. 29 from the capital Jakarta heading north to the tin-mining town of Pangkal Pinang. The other black box, the flight data recorder, was recovered three days after the crash. A preliminary report by KNKT focussed on airline maintenance and training and the response of a Boeing anti-stall system to a recently replaced sensor but did not give a cause for the crash.'"
      ]
     },
     "execution_count": 7,
     "metadata": {},
     "output_type": "execute_result"
    }
   ],
   "source": [
    "corpus.loc[502].body"
   ]
  },
  {
   "cell_type": "code",
   "execution_count": 8,
   "metadata": {},
   "outputs": [
    {
     "data": {
      "text/plain": [
       "0"
      ]
     },
     "execution_count": 8,
     "metadata": {},
     "output_type": "execute_result"
    }
   ],
   "source": [
    "corpus.loc[502].target"
   ]
  },
  {
   "cell_type": "markdown",
   "metadata": {},
   "source": [
    "Each article in the corpus is refered to as a **document**."
   ]
  },
  {
   "cell_type": "markdown",
   "metadata": {},
   "source": [
    "It is a balanced dataset with 500 documents of each category. "
   ]
  },
  {
   "cell_type": "code",
   "execution_count": 9,
   "metadata": {},
   "outputs": [
    {
     "data": {
      "text/plain": [
       "1    500\n",
       "0    500\n",
       "Name: target, dtype: int64"
      ]
     },
     "execution_count": 9,
     "metadata": {},
     "output_type": "execute_result"
    }
   ],
   "source": [
    "corpus.target.value_counts()"
   ]
  },
  {
   "cell_type": "markdown",
   "metadata": {},
   "source": [
    "**Discussion:** Let's think about the use cases of being able to correctly separate satirical from authentic news. What might be a real-world use case?  "
   ]
  },
  {
   "cell_type": "markdown",
   "metadata": {},
   "source": [
    "# Thoughts here\n",
    "- identify misinfo\n",
    "- content warnings\n",
    "- \n"
   ]
  },
  {
   "cell_type": "markdown",
   "metadata": {},
   "source": [
    "## Tokenization \n",
    "\n",
    "In order to convert the texts into data suitable for machine learning, we need to break down the documents into smaller parts. \n",
    "\n",
    "The first step in doing that is **tokenization**.\n",
    "\n",
    "Tokenization is the process of splitting documents into units of observations. We usually represent the tokens as __n-grams__, where n represent the number of consecutive words occuring in a document that we will consider a unit. In the case of unigrams (one-word tokens), the sentence \"David works here\" would be tokenized into:\n",
    "\n",
    "- \"David\", \"works\", \"here\";\n",
    "\n",
    "If we want (also) to consider bigrams, we would (also) consider:\n",
    "\n",
    "- \"David works\" and \"works here\"."
   ]
  },
  {
   "cell_type": "markdown",
   "metadata": {},
   "source": [
    "Let's consider a particular document in our corpus:"
   ]
  },
  {
   "cell_type": "code",
   "execution_count": 11,
   "metadata": {},
   "outputs": [],
   "source": [
    "sample_document = corpus.iloc[1].body"
   ]
  },
  {
   "cell_type": "code",
   "execution_count": 12,
   "metadata": {},
   "outputs": [
    {
     "data": {
      "text/plain": [
       "'Desperate to unwind after months of nonstop work investigating Russian influence in the 2016 election, visibly exhausted Special Counsel Robert Mueller powered his phone down Friday in order to give himself a break from any news concerning the probe over the holiday break. “The last thing I want when I’m spending time with my family is a cascade of push notifications telling me yet another Russian oligarch, political operative, or highly placed socialite used Deutsche Bank channels to funnel money to the campaign,” said the former FBI director, firmly holding down his phone’s power button and adding that he wants to be “completely present in the moment” while celebrating with his loved ones, not ruminating about who met with which diplomat or whether someone was using social media to tamper with his witnesses. “I just want to have two calm weeks where I don’t even think about Individual One. I won’t even say his name. I’ll have to wait to hear about any important developments in January, since I just know the second I read, say, something about Eric being involved more deeply than we previously suspected, I’ll get pulled back in and ruin my whole vacation.” At press time, Mueller had reactivated his phone just to check the news real quick. '"
      ]
     },
     "execution_count": 12,
     "metadata": {},
     "output_type": "execute_result"
    }
   ],
   "source": [
    "sample_document"
   ]
  },
  {
   "cell_type": "markdown",
   "metadata": {},
   "source": [
    "There are many ways to tokenize our document. \n",
    "\n",
    "It is a long string, so the first way we might consider is to split it by spaces."
   ]
  },
  {
   "cell_type": "markdown",
   "metadata": {},
   "source": [
    "**Knowledge Check:** How would we split our documents into words using spaces?\n",
    "\n",
    "<p>\n",
    "</p>\n",
    "<details>\n",
    "    <summary><b><u>Click Here for Answer Code</u></b></summary>\n",
    "\n",
    "    sample_document.split(' ')\n",
    "    \n",
    "</details>"
   ]
  },
  {
   "cell_type": "code",
   "execution_count": 13,
   "metadata": {},
   "outputs": [
    {
     "data": {
      "text/plain": [
       "['Desperate',\n",
       " 'to',\n",
       " 'unwind',\n",
       " 'after',\n",
       " 'months',\n",
       " 'of',\n",
       " 'nonstop',\n",
       " 'work',\n",
       " 'investigating',\n",
       " 'Russian',\n",
       " 'influence',\n",
       " 'in',\n",
       " 'the',\n",
       " '2016',\n",
       " 'election,',\n",
       " 'visibly',\n",
       " 'exhausted',\n",
       " 'Special',\n",
       " 'Counsel',\n",
       " 'Robert',\n",
       " 'Mueller',\n",
       " 'powered',\n",
       " 'his',\n",
       " 'phone',\n",
       " 'down',\n",
       " 'Friday',\n",
       " 'in',\n",
       " 'order',\n",
       " 'to',\n",
       " 'give',\n",
       " 'himself',\n",
       " 'a',\n",
       " 'break',\n",
       " 'from',\n",
       " 'any',\n",
       " 'news',\n",
       " 'concerning',\n",
       " 'the',\n",
       " 'probe',\n",
       " 'over',\n",
       " 'the',\n",
       " 'holiday',\n",
       " 'break.',\n",
       " '“The',\n",
       " 'last',\n",
       " 'thing',\n",
       " 'I',\n",
       " 'want',\n",
       " 'when',\n",
       " 'I’m',\n",
       " 'spending',\n",
       " 'time',\n",
       " 'with',\n",
       " 'my',\n",
       " 'family',\n",
       " 'is',\n",
       " 'a',\n",
       " 'cascade',\n",
       " 'of',\n",
       " 'push',\n",
       " 'notifications',\n",
       " 'telling',\n",
       " 'me',\n",
       " 'yet',\n",
       " 'another',\n",
       " 'Russian',\n",
       " 'oligarch,',\n",
       " 'political',\n",
       " 'operative,',\n",
       " 'or',\n",
       " 'highly',\n",
       " 'placed',\n",
       " 'socialite',\n",
       " 'used',\n",
       " 'Deutsche',\n",
       " 'Bank',\n",
       " 'channels',\n",
       " 'to',\n",
       " 'funnel',\n",
       " 'money',\n",
       " 'to',\n",
       " 'the',\n",
       " 'campaign,”',\n",
       " 'said',\n",
       " 'the',\n",
       " 'former',\n",
       " 'FBI',\n",
       " 'director,',\n",
       " 'firmly',\n",
       " 'holding',\n",
       " 'down',\n",
       " 'his',\n",
       " 'phone’s',\n",
       " 'power',\n",
       " 'button',\n",
       " 'and',\n",
       " 'adding',\n",
       " 'that',\n",
       " 'he',\n",
       " 'wants',\n",
       " 'to',\n",
       " 'be',\n",
       " '“completely',\n",
       " 'present',\n",
       " 'in',\n",
       " 'the',\n",
       " 'moment”',\n",
       " 'while',\n",
       " 'celebrating',\n",
       " 'with',\n",
       " 'his',\n",
       " 'loved',\n",
       " 'ones,',\n",
       " 'not',\n",
       " 'ruminating',\n",
       " 'about',\n",
       " 'who',\n",
       " 'met',\n",
       " 'with',\n",
       " 'which',\n",
       " 'diplomat',\n",
       " 'or',\n",
       " 'whether',\n",
       " 'someone',\n",
       " 'was',\n",
       " 'using',\n",
       " 'social',\n",
       " 'media',\n",
       " 'to',\n",
       " 'tamper',\n",
       " 'with',\n",
       " 'his',\n",
       " 'witnesses.',\n",
       " '“I',\n",
       " 'just',\n",
       " 'want',\n",
       " 'to',\n",
       " 'have',\n",
       " 'two',\n",
       " 'calm',\n",
       " 'weeks',\n",
       " 'where',\n",
       " 'I',\n",
       " 'don’t',\n",
       " 'even',\n",
       " 'think',\n",
       " 'about',\n",
       " 'Individual',\n",
       " 'One.',\n",
       " 'I',\n",
       " 'won’t',\n",
       " 'even',\n",
       " 'say',\n",
       " 'his',\n",
       " 'name.',\n",
       " 'I’ll',\n",
       " 'have',\n",
       " 'to',\n",
       " 'wait',\n",
       " 'to',\n",
       " 'hear',\n",
       " 'about',\n",
       " 'any',\n",
       " 'important',\n",
       " 'developments',\n",
       " 'in',\n",
       " 'January,',\n",
       " 'since',\n",
       " 'I',\n",
       " 'just',\n",
       " 'know',\n",
       " 'the',\n",
       " 'second',\n",
       " 'I',\n",
       " 'read,',\n",
       " 'say,',\n",
       " 'something',\n",
       " 'about',\n",
       " 'Eric',\n",
       " 'being',\n",
       " 'involved',\n",
       " 'more',\n",
       " 'deeply',\n",
       " 'than',\n",
       " 'we',\n",
       " 'previously',\n",
       " 'suspected,',\n",
       " 'I’ll',\n",
       " 'get',\n",
       " 'pulled',\n",
       " 'back',\n",
       " 'in',\n",
       " 'and',\n",
       " 'ruin',\n",
       " 'my',\n",
       " 'whole',\n",
       " 'vacation.”',\n",
       " 'At',\n",
       " 'press',\n",
       " 'time,',\n",
       " 'Mueller',\n",
       " 'had',\n",
       " 'reactivated',\n",
       " 'his',\n",
       " 'phone',\n",
       " 'just',\n",
       " 'to',\n",
       " 'check',\n",
       " 'the',\n",
       " 'news',\n",
       " 'real',\n",
       " 'quick.',\n",
       " '']"
      ]
     },
     "execution_count": 13,
     "metadata": {},
     "output_type": "execute_result"
    }
   ],
   "source": [
    "# code\n",
    "sample_document.split(' ')"
   ]
  },
  {
   "cell_type": "markdown",
   "metadata": {},
   "source": [
    "But this is not ideal. We are trying to create a set of tokens with **high semantic value**.  In other words, we want to isolate text which best represents the meaning in each document."
   ]
  },
  {
   "cell_type": "markdown",
   "metadata": {},
   "source": [
    "# Text Cleaning\n",
    "\n",
    "Most NL Pre-Processing will include the following tasks:\n",
    "\n",
    "  1. Remove capitalization  \n",
    "  2. Remove punctuation  \n",
    "  3. Remove stopwords  \n",
    "  4. Remove numerals"
   ]
  },
  {
   "cell_type": "markdown",
   "metadata": {},
   "source": [
    "We could manually perform all of these tasks with string operations."
   ]
  },
  {
   "cell_type": "markdown",
   "metadata": {},
   "source": [
    "## Capitalization\n",
    "\n",
    "When we create our matrix of words associated with our corpus, **capital letters** will mess things up.  The semantic value of a word used at the beginning of a sentence is the same as that same word in the middle of the sentence.  In the two sentences:\n",
    "\n",
    "sentence_one =  \"Excessive gerrymandering in small counties suppresses turnout.\"   \n",
    "sentence_two =  \"Turnout is suppressed in small counties by excessive gerrymandering.\"  \n",
    "\n",
    "'excessive' has the same semantic value, but will be treated as different tokens because of capitals."
   ]
  },
  {
   "cell_type": "code",
   "execution_count": 14,
   "metadata": {},
   "outputs": [
    {
     "data": {
      "text/plain": [
       "False"
      ]
     },
     "execution_count": 14,
     "metadata": {},
     "output_type": "execute_result"
    }
   ],
   "source": [
    "\"A\" == \"a\""
   ]
  },
  {
   "cell_type": "code",
   "execution_count": 16,
   "metadata": {},
   "outputs": [
    {
     "name": "stdout",
     "output_type": "stream",
     "text": [
      "excessive Excessive\n"
     ]
    },
    {
     "data": {
      "text/plain": [
       "False"
      ]
     },
     "execution_count": 16,
     "metadata": {},
     "output_type": "execute_result"
    }
   ],
   "source": [
    "sentence_one =  \"Excessive gerrymandering in small counties suppresses turnout.\" \n",
    "sentence_two =  \"Turnout is suppressed in small counties by excessive gerrymandering.\"\n",
    "Excessive = sentence_one.split(' ')[0]\n",
    "excessive = sentence_two.split(' ')[-2]\n",
    "print(excessive, Excessive)\n",
    "excessive == Excessive"
   ]
  },
  {
   "cell_type": "code",
   "execution_count": 22,
   "metadata": {},
   "outputs": [],
   "source": [
    "mc1 = sample_document.lower().split()"
   ]
  },
  {
   "cell_type": "code",
   "execution_count": 23,
   "metadata": {},
   "outputs": [
    {
     "data": {
      "text/plain": [
       "['desperate',\n",
       " 'to',\n",
       " 'unwind',\n",
       " 'after',\n",
       " 'months',\n",
       " 'of',\n",
       " 'nonstop',\n",
       " 'work',\n",
       " 'investigating',\n",
       " 'russian',\n",
       " 'influence',\n",
       " 'in',\n",
       " 'the',\n",
       " '2016',\n",
       " 'election,',\n",
       " 'visibly',\n",
       " 'exhausted',\n",
       " 'special',\n",
       " 'counsel',\n",
       " 'robert',\n",
       " 'mueller',\n",
       " 'powered',\n",
       " 'his',\n",
       " 'phone',\n",
       " 'down',\n",
       " 'friday',\n",
       " 'in',\n",
       " 'order',\n",
       " 'to',\n",
       " 'give',\n",
       " 'himself',\n",
       " 'a',\n",
       " 'break',\n",
       " 'from',\n",
       " 'any',\n",
       " 'news',\n",
       " 'concerning',\n",
       " 'the',\n",
       " 'probe',\n",
       " 'over',\n",
       " 'the',\n",
       " 'holiday',\n",
       " 'break.',\n",
       " '“the',\n",
       " 'last',\n",
       " 'thing',\n",
       " 'i',\n",
       " 'want',\n",
       " 'when',\n",
       " 'i’m',\n",
       " 'spending',\n",
       " 'time',\n",
       " 'with',\n",
       " 'my',\n",
       " 'family',\n",
       " 'is',\n",
       " 'a',\n",
       " 'cascade',\n",
       " 'of',\n",
       " 'push',\n",
       " 'notifications',\n",
       " 'telling',\n",
       " 'me',\n",
       " 'yet',\n",
       " 'another',\n",
       " 'russian',\n",
       " 'oligarch,',\n",
       " 'political',\n",
       " 'operative,',\n",
       " 'or',\n",
       " 'highly',\n",
       " 'placed',\n",
       " 'socialite',\n",
       " 'used',\n",
       " 'deutsche',\n",
       " 'bank',\n",
       " 'channels',\n",
       " 'to',\n",
       " 'funnel',\n",
       " 'money',\n",
       " 'to',\n",
       " 'the',\n",
       " 'campaign,”',\n",
       " 'said',\n",
       " 'the',\n",
       " 'former',\n",
       " 'fbi',\n",
       " 'director,',\n",
       " 'firmly',\n",
       " 'holding',\n",
       " 'down',\n",
       " 'his',\n",
       " 'phone’s',\n",
       " 'power',\n",
       " 'button',\n",
       " 'and',\n",
       " 'adding',\n",
       " 'that',\n",
       " 'he',\n",
       " 'wants',\n",
       " 'to',\n",
       " 'be',\n",
       " '“completely',\n",
       " 'present',\n",
       " 'in',\n",
       " 'the',\n",
       " 'moment”',\n",
       " 'while',\n",
       " 'celebrating',\n",
       " 'with',\n",
       " 'his',\n",
       " 'loved',\n",
       " 'ones,',\n",
       " 'not',\n",
       " 'ruminating',\n",
       " 'about',\n",
       " 'who',\n",
       " 'met',\n",
       " 'with',\n",
       " 'which',\n",
       " 'diplomat',\n",
       " 'or',\n",
       " 'whether',\n",
       " 'someone',\n",
       " 'was',\n",
       " 'using',\n",
       " 'social',\n",
       " 'media',\n",
       " 'to',\n",
       " 'tamper',\n",
       " 'with',\n",
       " 'his',\n",
       " 'witnesses.',\n",
       " '“i',\n",
       " 'just',\n",
       " 'want',\n",
       " 'to',\n",
       " 'have',\n",
       " 'two',\n",
       " 'calm',\n",
       " 'weeks',\n",
       " 'where',\n",
       " 'i',\n",
       " 'don’t',\n",
       " 'even',\n",
       " 'think',\n",
       " 'about',\n",
       " 'individual',\n",
       " 'one.',\n",
       " 'i',\n",
       " 'won’t',\n",
       " 'even',\n",
       " 'say',\n",
       " 'his',\n",
       " 'name.',\n",
       " 'i’ll',\n",
       " 'have',\n",
       " 'to',\n",
       " 'wait',\n",
       " 'to',\n",
       " 'hear',\n",
       " 'about',\n",
       " 'any',\n",
       " 'important',\n",
       " 'developments',\n",
       " 'in',\n",
       " 'january,',\n",
       " 'since',\n",
       " 'i',\n",
       " 'just',\n",
       " 'know',\n",
       " 'the',\n",
       " 'second',\n",
       " 'i',\n",
       " 'read,',\n",
       " 'say,',\n",
       " 'something',\n",
       " 'about',\n",
       " 'eric',\n",
       " 'being',\n",
       " 'involved',\n",
       " 'more',\n",
       " 'deeply',\n",
       " 'than',\n",
       " 'we',\n",
       " 'previously',\n",
       " 'suspected,',\n",
       " 'i’ll',\n",
       " 'get',\n",
       " 'pulled',\n",
       " 'back',\n",
       " 'in',\n",
       " 'and',\n",
       " 'ruin',\n",
       " 'my',\n",
       " 'whole',\n",
       " 'vacation.”',\n",
       " 'at',\n",
       " 'press',\n",
       " 'time,',\n",
       " 'mueller',\n",
       " 'had',\n",
       " 'reactivated',\n",
       " 'his',\n",
       " 'phone',\n",
       " 'just',\n",
       " 'to',\n",
       " 'check',\n",
       " 'the',\n",
       " 'news',\n",
       " 'real',\n",
       " 'quick.']"
      ]
     },
     "execution_count": 23,
     "metadata": {},
     "output_type": "execute_result"
    }
   ],
   "source": [
    "mc1"
   ]
  },
  {
   "cell_type": "code",
   "execution_count": 24,
   "metadata": {},
   "outputs": [],
   "source": [
    "manual_cleanup = [word.lower() for word in sample_document.split()]"
   ]
  },
  {
   "cell_type": "code",
   "execution_count": 25,
   "metadata": {},
   "outputs": [
    {
     "data": {
      "text/plain": [
       "['desperate',\n",
       " 'to',\n",
       " 'unwind',\n",
       " 'after',\n",
       " 'months',\n",
       " 'of',\n",
       " 'nonstop',\n",
       " 'work',\n",
       " 'investigating',\n",
       " 'russian',\n",
       " 'influence',\n",
       " 'in',\n",
       " 'the',\n",
       " '2016',\n",
       " 'election,',\n",
       " 'visibly',\n",
       " 'exhausted',\n",
       " 'special',\n",
       " 'counsel',\n",
       " 'robert',\n",
       " 'mueller',\n",
       " 'powered',\n",
       " 'his',\n",
       " 'phone',\n",
       " 'down',\n",
       " 'friday',\n",
       " 'in',\n",
       " 'order',\n",
       " 'to',\n",
       " 'give',\n",
       " 'himself',\n",
       " 'a',\n",
       " 'break',\n",
       " 'from',\n",
       " 'any',\n",
       " 'news',\n",
       " 'concerning',\n",
       " 'the',\n",
       " 'probe',\n",
       " 'over',\n",
       " 'the',\n",
       " 'holiday',\n",
       " 'break.',\n",
       " '“the',\n",
       " 'last',\n",
       " 'thing',\n",
       " 'i',\n",
       " 'want',\n",
       " 'when',\n",
       " 'i’m',\n",
       " 'spending',\n",
       " 'time',\n",
       " 'with',\n",
       " 'my',\n",
       " 'family',\n",
       " 'is',\n",
       " 'a',\n",
       " 'cascade',\n",
       " 'of',\n",
       " 'push',\n",
       " 'notifications',\n",
       " 'telling',\n",
       " 'me',\n",
       " 'yet',\n",
       " 'another',\n",
       " 'russian',\n",
       " 'oligarch,',\n",
       " 'political',\n",
       " 'operative,',\n",
       " 'or',\n",
       " 'highly',\n",
       " 'placed',\n",
       " 'socialite',\n",
       " 'used',\n",
       " 'deutsche',\n",
       " 'bank',\n",
       " 'channels',\n",
       " 'to',\n",
       " 'funnel',\n",
       " 'money',\n",
       " 'to',\n",
       " 'the',\n",
       " 'campaign,”',\n",
       " 'said',\n",
       " 'the',\n",
       " 'former',\n",
       " 'fbi',\n",
       " 'director,',\n",
       " 'firmly',\n",
       " 'holding',\n",
       " 'down',\n",
       " 'his',\n",
       " 'phone’s',\n",
       " 'power',\n",
       " 'button',\n",
       " 'and',\n",
       " 'adding',\n",
       " 'that',\n",
       " 'he',\n",
       " 'wants',\n",
       " 'to',\n",
       " 'be',\n",
       " '“completely',\n",
       " 'present',\n",
       " 'in',\n",
       " 'the',\n",
       " 'moment”',\n",
       " 'while',\n",
       " 'celebrating',\n",
       " 'with',\n",
       " 'his',\n",
       " 'loved',\n",
       " 'ones,',\n",
       " 'not',\n",
       " 'ruminating',\n",
       " 'about',\n",
       " 'who',\n",
       " 'met',\n",
       " 'with',\n",
       " 'which',\n",
       " 'diplomat',\n",
       " 'or',\n",
       " 'whether',\n",
       " 'someone',\n",
       " 'was',\n",
       " 'using',\n",
       " 'social',\n",
       " 'media',\n",
       " 'to',\n",
       " 'tamper',\n",
       " 'with',\n",
       " 'his',\n",
       " 'witnesses.',\n",
       " '“i',\n",
       " 'just',\n",
       " 'want',\n",
       " 'to',\n",
       " 'have',\n",
       " 'two',\n",
       " 'calm',\n",
       " 'weeks',\n",
       " 'where',\n",
       " 'i',\n",
       " 'don’t',\n",
       " 'even',\n",
       " 'think',\n",
       " 'about',\n",
       " 'individual',\n",
       " 'one.',\n",
       " 'i',\n",
       " 'won’t',\n",
       " 'even',\n",
       " 'say',\n",
       " 'his',\n",
       " 'name.',\n",
       " 'i’ll',\n",
       " 'have',\n",
       " 'to',\n",
       " 'wait',\n",
       " 'to',\n",
       " 'hear',\n",
       " 'about',\n",
       " 'any',\n",
       " 'important',\n",
       " 'developments',\n",
       " 'in',\n",
       " 'january,',\n",
       " 'since',\n",
       " 'i',\n",
       " 'just',\n",
       " 'know',\n",
       " 'the',\n",
       " 'second',\n",
       " 'i',\n",
       " 'read,',\n",
       " 'say,',\n",
       " 'something',\n",
       " 'about',\n",
       " 'eric',\n",
       " 'being',\n",
       " 'involved',\n",
       " 'more',\n",
       " 'deeply',\n",
       " 'than',\n",
       " 'we',\n",
       " 'previously',\n",
       " 'suspected,',\n",
       " 'i’ll',\n",
       " 'get',\n",
       " 'pulled',\n",
       " 'back',\n",
       " 'in',\n",
       " 'and',\n",
       " 'ruin',\n",
       " 'my',\n",
       " 'whole',\n",
       " 'vacation.”',\n",
       " 'at',\n",
       " 'press',\n",
       " 'time,',\n",
       " 'mueller',\n",
       " 'had',\n",
       " 'reactivated',\n",
       " 'his',\n",
       " 'phone',\n",
       " 'just',\n",
       " 'to',\n",
       " 'check',\n",
       " 'the',\n",
       " 'news',\n",
       " 'real',\n",
       " 'quick.']"
      ]
     },
     "execution_count": 25,
     "metadata": {},
     "output_type": "execute_result"
    }
   ],
   "source": [
    "(manual_cleanup)"
   ]
  },
  {
   "cell_type": "code",
   "execution_count": 26,
   "metadata": {},
   "outputs": [
    {
     "name": "stdout",
     "output_type": "stream",
     "text": [
      "Our initial token set for our sample document is 212 words long\n"
     ]
    }
   ],
   "source": [
    "print(f\"Our initial token set for our sample document is {len(manual_cleanup)} words long\")"
   ]
  },
  {
   "cell_type": "code",
   "execution_count": 27,
   "metadata": {},
   "outputs": [
    {
     "name": "stdout",
     "output_type": "stream",
     "text": [
      "Our initial token set for our sample document has 161 unique words\n"
     ]
    }
   ],
   "source": [
    "print(f\"Our initial token set for our sample document has \\\n",
    "{len(set(sample_document.split(' ')))} unique words\")"
   ]
  },
  {
   "cell_type": "code",
   "execution_count": 28,
   "metadata": {},
   "outputs": [
    {
     "name": "stdout",
     "output_type": "stream",
     "text": [
      "After removing capitals, our sample document has 160 unique words\n"
     ]
    }
   ],
   "source": [
    "print(f\"After removing capitals, our sample document has \\\n",
    "{len(set(manual_cleanup))} unique words\")"
   ]
  },
  {
   "cell_type": "markdown",
   "metadata": {},
   "source": [
    "## Punctuation\n",
    "\n",
    "Like capitals, splitting on white space will create tokens which include punctuation that will muck up our semantics.  \n",
    "\n",
    "Returning to the above example, 'gerrymandering' and 'gerrymandering.' will be treated as different tokens."
   ]
  },
  {
   "cell_type": "code",
   "execution_count": 29,
   "metadata": {},
   "outputs": [
    {
     "name": "stdout",
     "output_type": "stream",
     "text": [
      "gerrymandering gerrymandering.\n"
     ]
    },
    {
     "data": {
      "text/plain": [
       "False"
      ]
     },
     "execution_count": 29,
     "metadata": {},
     "output_type": "execute_result"
    }
   ],
   "source": [
    "no_punct = sentence_one.split(' ')[1]\n",
    "punct = sentence_two.split(' ')[-1]\n",
    "print(no_punct, punct)\n",
    "no_punct == punct"
   ]
  },
  {
   "cell_type": "code",
   "execution_count": null,
   "metadata": {},
   "outputs": [],
   "source": [
    "## Manual removal of punctuation\n",
    "\n",
    "None"
   ]
  },
  {
   "cell_type": "code",
   "execution_count": 30,
   "metadata": {},
   "outputs": [],
   "source": [
    "manual_cleanup = [s.translate(str.maketrans('', '', string.punctuation)) for s in manual_cleanup]"
   ]
  },
  {
   "cell_type": "code",
   "execution_count": 31,
   "metadata": {},
   "outputs": [
    {
     "name": "stdout",
     "output_type": "stream",
     "text": [
      "After removing punctuation, our sample document has 157 unique words\n"
     ]
    }
   ],
   "source": [
    "print(f\"After removing punctuation, our sample document has \\\n",
    "{len(set(manual_cleanup))} unique words\")"
   ]
  },
  {
   "cell_type": "code",
   "execution_count": 32,
   "metadata": {},
   "outputs": [
    {
     "data": {
      "text/plain": [
       "['desperate',\n",
       " 'to',\n",
       " 'unwind',\n",
       " 'after',\n",
       " 'months',\n",
       " 'of',\n",
       " 'nonstop',\n",
       " 'work',\n",
       " 'investigating',\n",
       " 'russian',\n",
       " 'influence',\n",
       " 'in',\n",
       " 'the',\n",
       " '2016',\n",
       " 'election',\n",
       " 'visibly',\n",
       " 'exhausted',\n",
       " 'special',\n",
       " 'counsel',\n",
       " 'robert']"
      ]
     },
     "execution_count": 32,
     "metadata": {},
     "output_type": "execute_result"
    }
   ],
   "source": [
    "manual_cleanup[:20]"
   ]
  },
  {
   "cell_type": "markdown",
   "metadata": {},
   "source": [
    "## Stopwords"
   ]
  },
  {
   "cell_type": "markdown",
   "metadata": {},
   "source": [
    "Stopwords are the **filler** words in a language: prepositions, articles, conjunctions. They have low semantic value, and often need to be removed.  \n",
    "\n",
    "Luckily, NLTK has lists of stopwords ready for our use."
   ]
  },
  {
   "cell_type": "code",
   "execution_count": 33,
   "metadata": {},
   "outputs": [
    {
     "data": {
      "text/plain": [
       "['i',\n",
       " 'me',\n",
       " 'my',\n",
       " 'myself',\n",
       " 'we',\n",
       " 'our',\n",
       " 'ours',\n",
       " 'ourselves',\n",
       " 'you',\n",
       " \"you're\",\n",
       " \"you've\",\n",
       " \"you'll\",\n",
       " \"you'd\",\n",
       " 'your',\n",
       " 'yours',\n",
       " 'yourself',\n",
       " 'yourselves',\n",
       " 'he',\n",
       " 'him',\n",
       " 'his',\n",
       " 'himself',\n",
       " 'she',\n",
       " \"she's\",\n",
       " 'her',\n",
       " 'hers',\n",
       " 'herself',\n",
       " 'it',\n",
       " \"it's\",\n",
       " 'its',\n",
       " 'itself',\n",
       " 'they',\n",
       " 'them',\n",
       " 'their',\n",
       " 'theirs',\n",
       " 'themselves',\n",
       " 'what',\n",
       " 'which',\n",
       " 'who',\n",
       " 'whom',\n",
       " 'this',\n",
       " 'that',\n",
       " \"that'll\",\n",
       " 'these',\n",
       " 'those',\n",
       " 'am',\n",
       " 'is',\n",
       " 'are',\n",
       " 'was',\n",
       " 'were',\n",
       " 'be',\n",
       " 'been',\n",
       " 'being',\n",
       " 'have',\n",
       " 'has',\n",
       " 'had',\n",
       " 'having',\n",
       " 'do',\n",
       " 'does',\n",
       " 'did',\n",
       " 'doing',\n",
       " 'a',\n",
       " 'an',\n",
       " 'the',\n",
       " 'and',\n",
       " 'but',\n",
       " 'if',\n",
       " 'or',\n",
       " 'because',\n",
       " 'as',\n",
       " 'until',\n",
       " 'while',\n",
       " 'of',\n",
       " 'at',\n",
       " 'by',\n",
       " 'for',\n",
       " 'with',\n",
       " 'about',\n",
       " 'against',\n",
       " 'between',\n",
       " 'into',\n",
       " 'through',\n",
       " 'during',\n",
       " 'before',\n",
       " 'after',\n",
       " 'above',\n",
       " 'below',\n",
       " 'to',\n",
       " 'from',\n",
       " 'up',\n",
       " 'down',\n",
       " 'in',\n",
       " 'out',\n",
       " 'on',\n",
       " 'off',\n",
       " 'over',\n",
       " 'under',\n",
       " 'again',\n",
       " 'further',\n",
       " 'then',\n",
       " 'once',\n",
       " 'here',\n",
       " 'there',\n",
       " 'when',\n",
       " 'where',\n",
       " 'why',\n",
       " 'how',\n",
       " 'all',\n",
       " 'any',\n",
       " 'both',\n",
       " 'each',\n",
       " 'few',\n",
       " 'more',\n",
       " 'most',\n",
       " 'other',\n",
       " 'some',\n",
       " 'such',\n",
       " 'no',\n",
       " 'nor',\n",
       " 'not',\n",
       " 'only',\n",
       " 'own',\n",
       " 'same',\n",
       " 'so',\n",
       " 'than',\n",
       " 'too',\n",
       " 'very',\n",
       " 's',\n",
       " 't',\n",
       " 'can',\n",
       " 'will',\n",
       " 'just',\n",
       " 'don',\n",
       " \"don't\",\n",
       " 'should',\n",
       " \"should've\",\n",
       " 'now',\n",
       " 'd',\n",
       " 'll',\n",
       " 'm',\n",
       " 'o',\n",
       " 're',\n",
       " 've',\n",
       " 'y',\n",
       " 'ain',\n",
       " 'aren',\n",
       " \"aren't\",\n",
       " 'couldn',\n",
       " \"couldn't\",\n",
       " 'didn',\n",
       " \"didn't\",\n",
       " 'doesn',\n",
       " \"doesn't\",\n",
       " 'hadn',\n",
       " \"hadn't\",\n",
       " 'hasn',\n",
       " \"hasn't\",\n",
       " 'haven',\n",
       " \"haven't\",\n",
       " 'isn',\n",
       " \"isn't\",\n",
       " 'ma',\n",
       " 'mightn',\n",
       " \"mightn't\",\n",
       " 'mustn',\n",
       " \"mustn't\",\n",
       " 'needn',\n",
       " \"needn't\",\n",
       " 'shan',\n",
       " \"shan't\",\n",
       " 'shouldn',\n",
       " \"shouldn't\",\n",
       " 'wasn',\n",
       " \"wasn't\",\n",
       " 'weren',\n",
       " \"weren't\",\n",
       " 'won',\n",
       " \"won't\",\n",
       " 'wouldn',\n",
       " \"wouldn't\"]"
      ]
     },
     "execution_count": 33,
     "metadata": {},
     "output_type": "execute_result"
    }
   ],
   "source": [
    "stopwords.words('english')"
   ]
  },
  {
   "cell_type": "code",
   "execution_count": 35,
   "metadata": {},
   "outputs": [
    {
     "data": {
      "text/plain": [
       "179"
      ]
     },
     "execution_count": 35,
     "metadata": {},
     "output_type": "execute_result"
    }
   ],
   "source": [
    "len(stopwords.words('english'))"
   ]
  },
  {
   "cell_type": "code",
   "execution_count": null,
   "metadata": {},
   "outputs": [],
   "source": [
    "stopwords.words('')"
   ]
  },
  {
   "cell_type": "markdown",
   "metadata": {},
   "source": [
    "Let's see which stopwords are present in our sample document."
   ]
  },
  {
   "cell_type": "code",
   "execution_count": 71,
   "metadata": {},
   "outputs": [
    {
     "ename": "TypeError",
     "evalue": "object of type 'NoneType' has no len()",
     "output_type": "error",
     "traceback": [
      "\u001b[0;31m---------------------------------------------------------------------------\u001b[0m",
      "\u001b[0;31mTypeError\u001b[0m                                 Traceback (most recent call last)",
      "\u001b[0;32m<ipython-input-71-f5fb7a82aaa5>\u001b[0m in \u001b[0;36m<module>\u001b[0;34m\u001b[0m\n\u001b[0;32m----> 1\u001b[0;31m print(f'There are {len(stops)} instances of {len(set(stops))} \\\n\u001b[0m\u001b[1;32m      2\u001b[0m stopwords in the sample document')\n",
      "\u001b[0;31mTypeError\u001b[0m: object of type 'NoneType' has no len()"
     ]
    }
   ],
   "source": [
    "print(f'There are {len(stops)} instances of {len(set(stops))} \\\n",
    "stopwords in the sample document')"
   ]
  },
  {
   "cell_type": "code",
   "execution_count": 40,
   "metadata": {},
   "outputs": [
    {
     "ename": "TypeError",
     "evalue": "object of type 'NoneType' has no len()",
     "output_type": "error",
     "traceback": [
      "\u001b[0;31m---------------------------------------------------------------------------\u001b[0m",
      "\u001b[0;31mTypeError\u001b[0m                                 Traceback (most recent call last)",
      "\u001b[0;32m<ipython-input-40-ccc8d9286e85>\u001b[0m in \u001b[0;36m<module>\u001b[0;34m\u001b[0m\n\u001b[0;32m----> 1\u001b[0;31m print(f'The {len(stops)} instances make up \\\n\u001b[0m\u001b[1;32m      2\u001b[0m {len(stops)/len(manual_cleanup): 0.2%} of our text')\n",
      "\u001b[0;31mTypeError\u001b[0m: object of type 'NoneType' has no len()"
     ]
    }
   ],
   "source": [
    "print(f'The {len(stops)} instances make up \\\n",
    "{len(stops)/len(manual_cleanup): 0.2%} of our text')"
   ]
  },
  {
   "cell_type": "markdown",
   "metadata": {},
   "source": [
    "Let's also use the **FreqDist** tool to look at the makeup of our text before and after removal:"
   ]
  },
  {
   "cell_type": "code",
   "execution_count": 36,
   "metadata": {},
   "outputs": [
    {
     "data": {
      "image/png": "[encoded data removed]",
      "text/plain": [
       "<Figure size 720x720 with 1 Axes>"
      ]
     },
     "metadata": {
      "needs_background": "light"
     },
     "output_type": "display_data"
    }
   ],
   "source": [
    "fdist = FreqDist(manual_cleanup)\n",
    "plt.figure(figsize=(10, 10))\n",
    "fdist.plot(30);"
   ]
  },
  {
   "cell_type": "code",
   "execution_count": 62,
   "metadata": {},
   "outputs": [],
   "source": [
    "sw = set(stopwords.words(\"english\"))"
   ]
  },
  {
   "cell_type": "code",
   "execution_count": 63,
   "metadata": {},
   "outputs": [],
   "source": [
    "manual_cleanup = [token.lower() for token in manual_cleanup if token not in sw]"
   ]
  },
  {
   "cell_type": "code",
   "execution_count": 64,
   "metadata": {},
   "outputs": [
    {
     "data": {
      "text/plain": [
       "'Desperate to unwind after months of nonstop work investigating Russian influence in the 2016 election, visibly exhausted Special Counsel Robert Mueller powered his phone down Friday in order to give himself a break from any news concerning the probe over the holiday break. “The last thing I want when I’m spending time with my family is a cascade of push notifications telling me yet another Russian oligarch, political operative, or highly placed socialite used Deutsche Bank channels to funnel money to the campaign,” said the former FBI director, firmly holding down his phone’s power button and adding that he wants to be “completely present in the moment” while celebrating with his loved ones, not ruminating about who met with which diplomat or whether someone was using social media to tamper with his witnesses. “I just want to have two calm weeks where I don’t even think about Individual One. I won’t even say his name. I’ll have to wait to hear about any important developments in January, since I just know the second I read, say, something about Eric being involved more deeply than we previously suspected, I’ll get pulled back in and ruin my whole vacation.” At press time, Mueller had reactivated his phone just to check the news real quick. '"
      ]
     },
     "execution_count": 64,
     "metadata": {},
     "output_type": "execute_result"
    }
   ],
   "source": [
    "sample_document"
   ]
  },
  {
   "cell_type": "code",
   "execution_count": 65,
   "metadata": {},
   "outputs": [
    {
     "data": {
      "text/plain": [
       "['desperate',\n",
       " 'unwind',\n",
       " 'months',\n",
       " 'nonstop',\n",
       " 'work',\n",
       " 'investigating',\n",
       " 'russian',\n",
       " 'influence',\n",
       " '',\n",
       " 'election']"
      ]
     },
     "execution_count": 65,
     "metadata": {},
     "output_type": "execute_result"
    }
   ],
   "source": [
    "manual_cleanup[:10]"
   ]
  },
  {
   "cell_type": "code",
   "execution_count": 66,
   "metadata": {},
   "outputs": [
    {
     "ename": "NameError",
     "evalue": "name 'custom_sw' is not defined",
     "output_type": "error",
     "traceback": [
      "\u001b[0;31m---------------------------------------------------------------------------\u001b[0m",
      "\u001b[0;31mNameError\u001b[0m                                 Traceback (most recent call last)",
      "\u001b[0;32m<ipython-input-66-bb0d3d66c2db>\u001b[0m in \u001b[0;36m<module>\u001b[0;34m\u001b[0m\n\u001b[1;32m      1\u001b[0m \u001b[0;31m# We can also customize our stopwords list\u001b[0m\u001b[0;34m\u001b[0m\u001b[0;34m\u001b[0m\u001b[0;34m\u001b[0m\u001b[0m\n\u001b[1;32m      2\u001b[0m \u001b[0;34m\u001b[0m\u001b[0m\n\u001b[0;32m----> 3\u001b[0;31m \u001b[0mcustom_sw\u001b[0m\u001b[0;34m[\u001b[0m\u001b[0;34m-\u001b[0m\u001b[0;36m1\u001b[0m\u001b[0;34m]\u001b[0m\u001b[0;34m\u001b[0m\u001b[0;34m\u001b[0m\u001b[0m\n\u001b[0m",
      "\u001b[0;31mNameError\u001b[0m: name 'custom_sw' is not defined"
     ]
    }
   ],
   "source": [
    "# We can also customize our stopwords list\n",
    "\n",
    "custom_sw[-1]"
   ]
  },
  {
   "cell_type": "code",
   "execution_count": null,
   "metadata": {},
   "outputs": [],
   "source": [
    "print(f'After removing stopwords, there are {len(set(manual_cleanup))} unique words left')"
   ]
  },
  {
   "cell_type": "code",
   "execution_count": null,
   "metadata": {},
   "outputs": [],
   "source": [
    "fdist = FreqDist(manual_cleanup)\n",
    "plt.figure(figsize=(10, 10))\n",
    "fdist.plot(30);"
   ]
  },
  {
   "cell_type": "markdown",
   "metadata": {},
   "source": [
    "#### Numerals\n",
    "\n",
    "Numerals also usually have low semantic value. Their removal can help improve our models. "
   ]
  },
  {
   "cell_type": "code",
   "execution_count": 47,
   "metadata": {},
   "outputs": [],
   "source": [
    "manual_cleanup = [s.translate(str.maketrans('', '', '0123456789')) for s in manual_cleanup]"
   ]
  },
  {
   "cell_type": "code",
   "execution_count": 48,
   "metadata": {},
   "outputs": [
    {
     "name": "stdout",
     "output_type": "stream",
     "text": [
      "After removing numerals, there are 157 unique words left\n"
     ]
    }
   ],
   "source": [
    "print(f'After removing numerals, there are {len(set(manual_cleanup))} unique words left')"
   ]
  },
  {
   "cell_type": "markdown",
   "metadata": {},
   "source": [
    "# Regex\n",
    "\n",
    "Regex allows us to match strings based on a pattern.  This pattern comes from a language of identifiers, which we can begin exploring on the cheatsheet found here:\n",
    "  -   https://regexr.com/"
   ]
  },
  {
   "cell_type": "markdown",
   "metadata": {},
   "source": [
    "A few key symbols:\n",
    "  - . : matches any character\n",
    "  - \\d, \\w, \\s : represent digit, word, whitespace  \n",
    "  - *, ?, +: matches 0 or more, 0 or 1, 1 or more of the preceding character  \n",
    "  - [A-Z]: matches any capital letter  \n",
    "  - [a-z]: matches lowercase letter  "
   ]
  },
  {
   "cell_type": "markdown",
   "metadata": {},
   "source": [
    "Other helpful resources:\n",
    "  - https://regexcrossword.com/\n",
    "  - https://www.regular-expressions.info/tutorial.html"
   ]
  },
  {
   "cell_type": "markdown",
   "metadata": {},
   "source": [
    "We can use regex to isolate numerals:"
   ]
  },
  {
   "cell_type": "code",
   "execution_count": 52,
   "metadata": {
    "scrolled": true
   },
   "outputs": [
    {
     "data": {
      "text/plain": [
       "'Desperate to unwind after months of nonstop work investigating Russian influence in the 2016 election, visibly exhausted Special Counsel Robert Mueller powered his phone down Friday in order to give himself a break from any news concerning the probe over the holiday break. “The last thing I want when I’m spending time with my family is a cascade of push notifications telling me yet another Russian oligarch, political operative, or highly placed socialite used Deutsche Bank channels to funnel money to the campaign,” said the former FBI director, firmly holding down his phone’s power button and adding that he wants to be “completely present in the moment” while celebrating with his loved ones, not ruminating about who met with which diplomat or whether someone was using social media to tamper with his witnesses. “I just want to have two calm weeks where I don’t even think about Individual One. I won’t even say his name. I’ll have to wait to hear about any important developments in January, since I just know the second I read, say, something about Eric being involved more deeply than we previously suspected, I’ll get pulled back in and ruin my whole vacation.” At press time, Mueller had reactivated his phone just to check the news real quick. '"
      ]
     },
     "execution_count": 52,
     "metadata": {},
     "output_type": "execute_result"
    }
   ],
   "source": [
    "sample_document"
   ]
  },
  {
   "cell_type": "code",
   "execution_count": 53,
   "metadata": {},
   "outputs": [
    {
     "data": {
      "text/plain": [
       "['2', '0', '1', '6']"
      ]
     },
     "execution_count": 53,
     "metadata": {},
     "output_type": "execute_result"
    }
   ],
   "source": [
    "pattern = '[0-9]'\n",
    "number = re.findall(pattern, sample_document)\n",
    "number"
   ]
  },
  {
   "cell_type": "code",
   "execution_count": 54,
   "metadata": {},
   "outputs": [
    {
     "data": {
      "text/plain": [
       "['2016']"
      ]
     },
     "execution_count": 54,
     "metadata": {},
     "output_type": "execute_result"
    }
   ],
   "source": [
    "pattern2 = '[0-9]+'\n",
    "number2 = re.findall(pattern2, sample_document)\n",
    "number2"
   ]
  },
  {
   "cell_type": "markdown",
   "metadata": {},
   "source": [
    "## `RegexpTokenizer()`\n",
    "\n",
    "Sklearn and NLTK provide us with a suite of **tokenizers** for our text preprocessing convenience. So we don't have to do this all by hand every time!"
   ]
  },
  {
   "cell_type": "code",
   "execution_count": 55,
   "metadata": {},
   "outputs": [
    {
     "data": {
      "text/plain": [
       "'Desperate to unwind after months of nonstop work investigating Russian influence in the 2016 election, visibly exhausted Special Counsel Robert Mueller powered his phone down Friday in order to give himself a break from any news concerning the probe over the holiday break. “The last thing I want when I’m spending time with my family is a cascade of push notifications telling me yet another Russian oligarch, political operative, or highly placed socialite used Deutsche Bank channels to funnel money to the campaign,” said the former FBI director, firmly holding down his phone’s power button and adding that he wants to be “completely present in the moment” while celebrating with his loved ones, not ruminating about who met with which diplomat or whether someone was using social media to tamper with his witnesses. “I just want to have two calm weeks where I don’t even think about Individual One. I won’t even say his name. I’ll have to wait to hear about any important developments in January, since I just know the second I read, say, something about Eric being involved more deeply than we previously suspected, I’ll get pulled back in and ruin my whole vacation.” At press time, Mueller had reactivated his phone just to check the news real quick. '"
      ]
     },
     "execution_count": 55,
     "metadata": {},
     "output_type": "execute_result"
    }
   ],
   "source": [
    "sample_document"
   ]
  },
  {
   "cell_type": "code",
   "execution_count": 56,
   "metadata": {},
   "outputs": [
    {
     "data": {
      "text/plain": [
       "[\"I'd\"]"
      ]
     },
     "execution_count": 56,
     "metadata": {},
     "output_type": "execute_result"
    }
   ],
   "source": [
    "# Remember that the '?' indicates 0 or 1!\n",
    "\n",
    "re.findall(r\"([a-zA-Z]+(?:'[a-z]+)?)\", \"I'd\")"
   ]
  },
  {
   "cell_type": "code",
   "execution_count": 57,
   "metadata": {},
   "outputs": [],
   "source": [
    "pattern = \"([a-zA-Z]+(?:'[a-z]+)?)\"\n",
    "tokenizer = RegexpTokenizer(pattern)\n",
    "sample_doc = tokenizer.tokenize(sample_document)"
   ]
  },
  {
   "cell_type": "code",
   "execution_count": 58,
   "metadata": {},
   "outputs": [
    {
     "data": {
      "text/plain": [
       "['Desperate',\n",
       " 'to',\n",
       " 'unwind',\n",
       " 'after',\n",
       " 'months',\n",
       " 'of',\n",
       " 'nonstop',\n",
       " 'work',\n",
       " 'investigating',\n",
       " 'Russian',\n",
       " 'influence',\n",
       " 'in',\n",
       " 'the',\n",
       " 'election',\n",
       " 'visibly',\n",
       " 'exhausted',\n",
       " 'Special',\n",
       " 'Counsel',\n",
       " 'Robert',\n",
       " 'Mueller',\n",
       " 'powered',\n",
       " 'his',\n",
       " 'phone',\n",
       " 'down',\n",
       " 'Friday',\n",
       " 'in',\n",
       " 'order',\n",
       " 'to',\n",
       " 'give',\n",
       " 'himself',\n",
       " 'a',\n",
       " 'break',\n",
       " 'from',\n",
       " 'any',\n",
       " 'news',\n",
       " 'concerning',\n",
       " 'the',\n",
       " 'probe',\n",
       " 'over',\n",
       " 'the',\n",
       " 'holiday',\n",
       " 'break',\n",
       " 'The',\n",
       " 'last',\n",
       " 'thing',\n",
       " 'I',\n",
       " 'want',\n",
       " 'when',\n",
       " 'I',\n",
       " 'm',\n",
       " 'spending',\n",
       " 'time',\n",
       " 'with',\n",
       " 'my',\n",
       " 'family',\n",
       " 'is',\n",
       " 'a',\n",
       " 'cascade',\n",
       " 'of',\n",
       " 'push',\n",
       " 'notifications',\n",
       " 'telling',\n",
       " 'me',\n",
       " 'yet',\n",
       " 'another',\n",
       " 'Russian',\n",
       " 'oligarch',\n",
       " 'political',\n",
       " 'operative',\n",
       " 'or',\n",
       " 'highly',\n",
       " 'placed',\n",
       " 'socialite',\n",
       " 'used',\n",
       " 'Deutsche',\n",
       " 'Bank',\n",
       " 'channels',\n",
       " 'to',\n",
       " 'funnel',\n",
       " 'money',\n",
       " 'to',\n",
       " 'the',\n",
       " 'campaign',\n",
       " 'said',\n",
       " 'the',\n",
       " 'former',\n",
       " 'FBI',\n",
       " 'director',\n",
       " 'firmly',\n",
       " 'holding',\n",
       " 'down',\n",
       " 'his',\n",
       " 'phone',\n",
       " 's',\n",
       " 'power',\n",
       " 'button',\n",
       " 'and',\n",
       " 'adding',\n",
       " 'that',\n",
       " 'he',\n",
       " 'wants',\n",
       " 'to',\n",
       " 'be',\n",
       " 'completely',\n",
       " 'present',\n",
       " 'in',\n",
       " 'the',\n",
       " 'moment',\n",
       " 'while',\n",
       " 'celebrating',\n",
       " 'with',\n",
       " 'his',\n",
       " 'loved',\n",
       " 'ones',\n",
       " 'not',\n",
       " 'ruminating',\n",
       " 'about',\n",
       " 'who',\n",
       " 'met',\n",
       " 'with',\n",
       " 'which',\n",
       " 'diplomat',\n",
       " 'or',\n",
       " 'whether',\n",
       " 'someone',\n",
       " 'was',\n",
       " 'using',\n",
       " 'social',\n",
       " 'media',\n",
       " 'to',\n",
       " 'tamper',\n",
       " 'with',\n",
       " 'his',\n",
       " 'witnesses',\n",
       " 'I',\n",
       " 'just',\n",
       " 'want',\n",
       " 'to',\n",
       " 'have',\n",
       " 'two',\n",
       " 'calm',\n",
       " 'weeks',\n",
       " 'where',\n",
       " 'I',\n",
       " 'don',\n",
       " 't',\n",
       " 'even',\n",
       " 'think',\n",
       " 'about',\n",
       " 'Individual',\n",
       " 'One',\n",
       " 'I',\n",
       " 'won',\n",
       " 't',\n",
       " 'even',\n",
       " 'say',\n",
       " 'his',\n",
       " 'name',\n",
       " 'I',\n",
       " 'll',\n",
       " 'have',\n",
       " 'to',\n",
       " 'wait',\n",
       " 'to',\n",
       " 'hear',\n",
       " 'about',\n",
       " 'any',\n",
       " 'important',\n",
       " 'developments',\n",
       " 'in',\n",
       " 'January',\n",
       " 'since',\n",
       " 'I',\n",
       " 'just',\n",
       " 'know',\n",
       " 'the',\n",
       " 'second',\n",
       " 'I',\n",
       " 'read',\n",
       " 'say',\n",
       " 'something',\n",
       " 'about',\n",
       " 'Eric',\n",
       " 'being',\n",
       " 'involved',\n",
       " 'more',\n",
       " 'deeply',\n",
       " 'than',\n",
       " 'we',\n",
       " 'previously',\n",
       " 'suspected',\n",
       " 'I',\n",
       " 'll',\n",
       " 'get',\n",
       " 'pulled',\n",
       " 'back',\n",
       " 'in',\n",
       " 'and',\n",
       " 'ruin',\n",
       " 'my',\n",
       " 'whole',\n",
       " 'vacation',\n",
       " 'At',\n",
       " 'press',\n",
       " 'time',\n",
       " 'Mueller',\n",
       " 'had',\n",
       " 'reactivated',\n",
       " 'his',\n",
       " 'phone',\n",
       " 'just',\n",
       " 'to',\n",
       " 'check',\n",
       " 'the',\n",
       " 'news',\n",
       " 'real',\n",
       " 'quick']"
      ]
     },
     "execution_count": 58,
     "metadata": {},
     "output_type": "execute_result"
    }
   ],
   "source": [
    "sample_doc"
   ]
  },
  {
   "cell_type": "code",
   "execution_count": 67,
   "metadata": {},
   "outputs": [],
   "source": [
    "sample_doc = [token.lower() for token in sample_doc]\n",
    "sample_doc = [token for token in sample_doc if token not in sw]"
   ]
  },
  {
   "cell_type": "code",
   "execution_count": 68,
   "metadata": {},
   "outputs": [
    {
     "data": {
      "text/plain": [
       "'Desperate to unwind after months of nonstop work investigating Russian influence in the 2016 election, visibly exhausted Special Counsel Robert Mueller powered his phone down Friday in order to give himself a break from any news concerning the probe over the holiday break. “The last thing I want when I’m spending time with my family is a cascade of push notifications telling me yet another Russian oligarch, political operative, or highly placed socialite used Deutsche Bank channels to funnel money to the campaign,” said the former FBI director, firmly holding down his phone’s power button and adding that he wants to be “completely present in the moment” while celebrating with his loved ones, not ruminating about who met with which diplomat or whether someone was using social media to tamper with his witnesses. “I just want to have two calm weeks where I don’t even think about Individual One. I won’t even say his name. I’ll have to wait to hear about any important developments in January, since I just know the second I read, say, something about Eric being involved more deeply than we previously suspected, I’ll get pulled back in and ruin my whole vacation.” At press time, Mueller had reactivated his phone just to check the news real quick. '"
      ]
     },
     "execution_count": 68,
     "metadata": {},
     "output_type": "execute_result"
    }
   ],
   "source": [
    "sample_document"
   ]
  },
  {
   "cell_type": "code",
   "execution_count": 69,
   "metadata": {},
   "outputs": [
    {
     "data": {
      "text/plain": [
       "['desperate',\n",
       " 'unwind',\n",
       " 'months',\n",
       " 'nonstop',\n",
       " 'work',\n",
       " 'investigating',\n",
       " 'russian',\n",
       " 'influence',\n",
       " 'election',\n",
       " 'visibly']"
      ]
     },
     "execution_count": 69,
     "metadata": {},
     "output_type": "execute_result"
    }
   ],
   "source": [
    "sample_doc[:10]"
   ]
  },
  {
   "cell_type": "code",
   "execution_count": 70,
   "metadata": {},
   "outputs": [
    {
     "name": "stdout",
     "output_type": "stream",
     "text": [
      "We are down to 111 unique words\n"
     ]
    }
   ],
   "source": [
    "print(f'We are down to {len(set(sample_doc))} unique words')"
   ]
  },
  {
   "cell_type": "markdown",
   "metadata": {},
   "source": [
    "# Exercise: NL Pre-Processing\n",
    "\n",
    "**Activity:** Use what you've learned to preprocess the fourth article. How does the length and number of unique words in the article change?\n",
    "\n",
    "<p>\n",
    "</p>\n",
    "<details>\n",
    "    <summary><b><u>Click Here for Answer Code</u></b></summary>\n",
    "\n",
    "    fourth_document = corpus.iloc[3].body\n",
    "    print(f'We start with {len(fourth_document.split())} words')\n",
    "    print(f'We start with {len(set(fourth_document.split()))} unique words')\n",
    "    \n",
    "    fourth_doc = tokenizer.tokenize(fourth_document)\n",
    "    fourth_doc = [token.lower() for token in fourth_doc]\n",
    "    fourth_doc = [token for token in fourth_doc if token not in sw]\n",
    "    print(f'We end with {len(fourth_doc)} words')\n",
    "    print(f'We end with {len(set(fourth_doc))} unique words')\n",
    "\n",
    "    \n",
    "</details>"
   ]
  },
  {
   "cell_type": "code",
   "execution_count": null,
   "metadata": {
    "scrolled": true
   },
   "outputs": [],
   "source": [
    "## Your code here\n"
   ]
  }
 ],
 "metadata": {
  "kernelspec": {
   "display_name": "Python 3",
   "language": "python",
   "name": "python3"
  },
  "language_info": {
   "codemirror_mode": {
    "name": "ipython",
    "version": 3
   },
   "file_extension": ".py",
   "mimetype": "text/x-python",
   "name": "python",
   "nbconvert_exporter": "python",
   "pygments_lexer": "ipython3",
   "version": "3.8.5"
  },
  "toc": {
   "base_numbering": 1,
   "nav_menu": {},
   "number_sections": true,
   "sideBar": true,
   "skip_h1_title": false,
   "title_cell": "Table of Contents",
   "title_sidebar": "Contents",
   "toc_cell": true,
   "toc_position": {},
   "toc_section_display": true,
   "toc_window_display": false
  }
 },
 "nbformat": 4,
 "nbformat_minor": 4
}
